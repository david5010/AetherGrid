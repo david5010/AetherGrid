{
 "cells": [
  {
   "cell_type": "markdown",
   "metadata": {},
   "source": [
    "## Testing Meteo"
   ]
  },
  {
   "cell_type": "code",
   "execution_count": 1,
   "metadata": {},
   "outputs": [],
   "source": [
    "from meteo import MeteoClient"
   ]
  },
  {
   "cell_type": "code",
   "execution_count": 2,
   "metadata": {},
   "outputs": [],
   "source": [
    "params ={\n",
    "            \"latitude\": [52.52, 51.5085, 52.52],\n",
    "            \"longitude\": [13.41, -0.1257, 13.41],\n",
    "            \"current\": [\"temperature_2m\", \"relative_humidity_2m\", \"precipitation\"],\n",
    "            \"minutely_15\": [\"temperature_2m\", \"relative_humidity_2m\", \"precipitation\"],\n",
    "            \"hourly\": \"temperature_2m\",\n",
    "            \"timezone\": \"America/Los_Angeles\",\n",
    "            \"forecast_days\": 1\n",
    "        }\n",
    "client = MeteoClient()\n",
    "client.fetch_forecast(params)"
   ]
  },
  {
   "cell_type": "code",
   "execution_count": 3,
   "metadata": {},
   "outputs": [
    {
     "data": {
      "text/html": [
       "<pre style=\"white-space:pre;overflow-x:auto;line-height:normal;font-family:Menlo,'DejaVu Sans Mono',consolas,'Courier New',monospace\"><span style=\"font-weight: bold\">(</span><span style=\"color: #008080; text-decoration-color: #008080; font-weight: bold\">13.419998</span>, <span style=\"color: #008080; text-decoration-color: #008080; font-weight: bold\">52.52</span><span style=\"font-weight: bold\">)</span>\n",
       "</pre>\n"
      ],
      "text/plain": [
       "\u001b[1m(\u001b[0m\u001b[1;36m13.419998\u001b[0m, \u001b[1;36m52.52\u001b[0m\u001b[1m)\u001b[0m\n"
      ]
     },
     "metadata": {},
     "output_type": "display_data"
    },
    {
     "data": {
      "text/html": [
       "<pre style=\"white-space:pre;overflow-x:auto;line-height:normal;font-family:Menlo,'DejaVu Sans Mono',consolas,'Courier New',monospace\">current\n",
       "</pre>\n"
      ],
      "text/plain": [
       "current\n"
      ]
     },
     "metadata": {},
     "output_type": "display_data"
    },
    {
     "data": {
      "text/html": [
       "<pre style=\"white-space:pre;overflow-x:auto;line-height:normal;font-family:Menlo,'DejaVu Sans Mono',consolas,'Courier New',monospace\">                 time  interval  temperature_2m  relative_humidity_2m  \\\n",
       "<span style=\"color: #008080; text-decoration-color: #008080; font-weight: bold\">0</span> <span style=\"color: #008080; text-decoration-color: #008080; font-weight: bold\">2023</span>-<span style=\"color: #008080; text-decoration-color: #008080; font-weight: bold\">11</span>-<span style=\"color: #008080; text-decoration-color: #008080; font-weight: bold\">12</span> <span style=\"color: #00ff00; text-decoration-color: #00ff00; font-weight: bold\">23:45:00</span>       <span style=\"color: #008080; text-decoration-color: #008080; font-weight: bold\">900</span>             <span style=\"color: #008080; text-decoration-color: #008080; font-weight: bold\">4.6</span>                    <span style=\"color: #008080; text-decoration-color: #008080; font-weight: bold\">87</span>   \n",
       "\n",
       "   precipitation  \n",
       "<span style=\"color: #008080; text-decoration-color: #008080; font-weight: bold\">0</span>            <span style=\"color: #008080; text-decoration-color: #008080; font-weight: bold\">0.0</span>  \n",
       "</pre>\n"
      ],
      "text/plain": [
       "                 time  interval  temperature_2m  relative_humidity_2m  \\\n",
       "\u001b[1;36m0\u001b[0m \u001b[1;36m2023\u001b[0m-\u001b[1;36m11\u001b[0m-\u001b[1;36m12\u001b[0m \u001b[1;92m23:45:00\u001b[0m       \u001b[1;36m900\u001b[0m             \u001b[1;36m4.6\u001b[0m                    \u001b[1;36m87\u001b[0m   \n",
       "\n",
       "   precipitation  \n",
       "\u001b[1;36m0\u001b[0m            \u001b[1;36m0.0\u001b[0m  \n"
      ]
     },
     "metadata": {},
     "output_type": "display_data"
    },
    {
     "data": {
      "text/html": [
       "<pre style=\"white-space:pre;overflow-x:auto;line-height:normal;font-family:Menlo,'DejaVu Sans Mono',consolas,'Courier New',monospace\">---------------\n",
       "</pre>\n"
      ],
      "text/plain": [
       "---------------\n"
      ]
     },
     "metadata": {},
     "output_type": "display_data"
    },
    {
     "data": {
      "text/html": [
       "<pre style=\"white-space:pre;overflow-x:auto;line-height:normal;font-family:Menlo,'DejaVu Sans Mono',consolas,'Courier New',monospace\"><span style=\"font-weight: bold\">(</span><span style=\"color: #008080; text-decoration-color: #008080; font-weight: bold\">13.419998</span>, <span style=\"color: #008080; text-decoration-color: #008080; font-weight: bold\">52.52</span><span style=\"font-weight: bold\">)</span>\n",
       "</pre>\n"
      ],
      "text/plain": [
       "\u001b[1m(\u001b[0m\u001b[1;36m13.419998\u001b[0m, \u001b[1;36m52.52\u001b[0m\u001b[1m)\u001b[0m\n"
      ]
     },
     "metadata": {},
     "output_type": "display_data"
    },
    {
     "data": {
      "text/html": [
       "<pre style=\"white-space:pre;overflow-x:auto;line-height:normal;font-family:Menlo,'DejaVu Sans Mono',consolas,'Courier New',monospace\">minutely_15\n",
       "</pre>\n"
      ],
      "text/plain": [
       "minutely_15\n"
      ]
     },
     "metadata": {},
     "output_type": "display_data"
    },
    {
     "data": {
      "text/html": [
       "<pre style=\"white-space:pre;overflow-x:auto;line-height:normal;font-family:Menlo,'DejaVu Sans Mono',consolas,'Courier New',monospace\">                   time  temperature_2m  relative_humidity_2m  precipitation\n",
       "<span style=\"color: #008080; text-decoration-color: #008080; font-weight: bold\">0</span>   <span style=\"color: #008080; text-decoration-color: #008080; font-weight: bold\">2023</span>-<span style=\"color: #008080; text-decoration-color: #008080; font-weight: bold\">11</span>-<span style=\"color: #008080; text-decoration-color: #008080; font-weight: bold\">12</span> <span style=\"color: #00ff00; text-decoration-color: #00ff00; font-weight: bold\">00:00:00</span>             <span style=\"color: #008080; text-decoration-color: #008080; font-weight: bold\">5.8</span>                    <span style=\"color: #008080; text-decoration-color: #008080; font-weight: bold\">94</span>            <span style=\"color: #008080; text-decoration-color: #008080; font-weight: bold\">0.0</span>\n",
       "<span style=\"color: #008080; text-decoration-color: #008080; font-weight: bold\">1</span>   <span style=\"color: #008080; text-decoration-color: #008080; font-weight: bold\">2023</span>-<span style=\"color: #008080; text-decoration-color: #008080; font-weight: bold\">11</span>-<span style=\"color: #008080; text-decoration-color: #008080; font-weight: bold\">12</span> <span style=\"color: #00ff00; text-decoration-color: #00ff00; font-weight: bold\">00:15:00</span>             <span style=\"color: #008080; text-decoration-color: #008080; font-weight: bold\">5.9</span>                    <span style=\"color: #008080; text-decoration-color: #008080; font-weight: bold\">92</span>            <span style=\"color: #008080; text-decoration-color: #008080; font-weight: bold\">0.0</span>\n",
       "<span style=\"color: #008080; text-decoration-color: #008080; font-weight: bold\">2</span>   <span style=\"color: #008080; text-decoration-color: #008080; font-weight: bold\">2023</span>-<span style=\"color: #008080; text-decoration-color: #008080; font-weight: bold\">11</span>-<span style=\"color: #008080; text-decoration-color: #008080; font-weight: bold\">12</span> <span style=\"color: #00ff00; text-decoration-color: #00ff00; font-weight: bold\">00:30:00</span>             <span style=\"color: #008080; text-decoration-color: #008080; font-weight: bold\">6.1</span>                    <span style=\"color: #008080; text-decoration-color: #008080; font-weight: bold\">90</span>            <span style=\"color: #008080; text-decoration-color: #008080; font-weight: bold\">0.0</span>\n",
       "<span style=\"color: #008080; text-decoration-color: #008080; font-weight: bold\">3</span>   <span style=\"color: #008080; text-decoration-color: #008080; font-weight: bold\">2023</span>-<span style=\"color: #008080; text-decoration-color: #008080; font-weight: bold\">11</span>-<span style=\"color: #008080; text-decoration-color: #008080; font-weight: bold\">12</span> <span style=\"color: #00ff00; text-decoration-color: #00ff00; font-weight: bold\">00:45:00</span>             <span style=\"color: #008080; text-decoration-color: #008080; font-weight: bold\">6.2</span>                    <span style=\"color: #008080; text-decoration-color: #008080; font-weight: bold\">88</span>            <span style=\"color: #008080; text-decoration-color: #008080; font-weight: bold\">0.0</span>\n",
       "<span style=\"color: #008080; text-decoration-color: #008080; font-weight: bold\">4</span>   <span style=\"color: #008080; text-decoration-color: #008080; font-weight: bold\">2023</span>-<span style=\"color: #008080; text-decoration-color: #008080; font-weight: bold\">11</span>-<span style=\"color: #008080; text-decoration-color: #008080; font-weight: bold\">12</span> <span style=\"color: #00ff00; text-decoration-color: #00ff00; font-weight: bold\">01:00:00</span>             <span style=\"color: #008080; text-decoration-color: #008080; font-weight: bold\">6.4</span>                    <span style=\"color: #008080; text-decoration-color: #008080; font-weight: bold\">86</span>            <span style=\"color: #008080; text-decoration-color: #008080; font-weight: bold\">0.0</span>\n",
       "..                  <span style=\"color: #808000; text-decoration-color: #808000\">...</span>             <span style=\"color: #808000; text-decoration-color: #808000\">...</span>                   <span style=\"color: #808000; text-decoration-color: #808000\">...</span>            <span style=\"color: #808000; text-decoration-color: #808000\">...</span>\n",
       "<span style=\"color: #008080; text-decoration-color: #008080; font-weight: bold\">283</span> <span style=\"color: #008080; text-decoration-color: #008080; font-weight: bold\">2023</span>-<span style=\"color: #008080; text-decoration-color: #008080; font-weight: bold\">11</span>-<span style=\"color: #008080; text-decoration-color: #008080; font-weight: bold\">14</span> <span style=\"color: #00ff00; text-decoration-color: #00ff00; font-weight: bold\">22:45:00</span>             <span style=\"color: #008080; text-decoration-color: #008080; font-weight: bold\">9.0</span>                    <span style=\"color: #008080; text-decoration-color: #008080; font-weight: bold\">86</span>            <span style=\"color: #008080; text-decoration-color: #008080; font-weight: bold\">0.0</span>\n",
       "<span style=\"color: #008080; text-decoration-color: #008080; font-weight: bold\">284</span> <span style=\"color: #008080; text-decoration-color: #008080; font-weight: bold\">2023</span>-<span style=\"color: #008080; text-decoration-color: #008080; font-weight: bold\">11</span>-<span style=\"color: #008080; text-decoration-color: #008080; font-weight: bold\">14</span> <span style=\"color: #00ff00; text-decoration-color: #00ff00; font-weight: bold\">23:00:00</span>             <span style=\"color: #008080; text-decoration-color: #008080; font-weight: bold\">7.5</span>                    <span style=\"color: #008080; text-decoration-color: #008080; font-weight: bold\">83</span>            <span style=\"color: #008080; text-decoration-color: #008080; font-weight: bold\">0.0</span>\n",
       "<span style=\"color: #008080; text-decoration-color: #008080; font-weight: bold\">285</span> <span style=\"color: #008080; text-decoration-color: #008080; font-weight: bold\">2023</span>-<span style=\"color: #008080; text-decoration-color: #008080; font-weight: bold\">11</span>-<span style=\"color: #008080; text-decoration-color: #008080; font-weight: bold\">14</span> <span style=\"color: #00ff00; text-decoration-color: #00ff00; font-weight: bold\">23:15:00</span>             <span style=\"color: #008080; text-decoration-color: #008080; font-weight: bold\">7.4</span>                    <span style=\"color: #008080; text-decoration-color: #008080; font-weight: bold\">83</span>            <span style=\"color: #008080; text-decoration-color: #008080; font-weight: bold\">0.0</span>\n",
       "<span style=\"color: #008080; text-decoration-color: #008080; font-weight: bold\">286</span> <span style=\"color: #008080; text-decoration-color: #008080; font-weight: bold\">2023</span>-<span style=\"color: #008080; text-decoration-color: #008080; font-weight: bold\">11</span>-<span style=\"color: #008080; text-decoration-color: #008080; font-weight: bold\">14</span> <span style=\"color: #00ff00; text-decoration-color: #00ff00; font-weight: bold\">23:30:00</span>             <span style=\"color: #008080; text-decoration-color: #008080; font-weight: bold\">7.3</span>                    <span style=\"color: #008080; text-decoration-color: #008080; font-weight: bold\">82</span>            <span style=\"color: #008080; text-decoration-color: #008080; font-weight: bold\">0.0</span>\n",
       "<span style=\"color: #008080; text-decoration-color: #008080; font-weight: bold\">287</span> <span style=\"color: #008080; text-decoration-color: #008080; font-weight: bold\">2023</span>-<span style=\"color: #008080; text-decoration-color: #008080; font-weight: bold\">11</span>-<span style=\"color: #008080; text-decoration-color: #008080; font-weight: bold\">14</span> <span style=\"color: #00ff00; text-decoration-color: #00ff00; font-weight: bold\">23:45:00</span>             <span style=\"color: #008080; text-decoration-color: #008080; font-weight: bold\">7.3</span>                    <span style=\"color: #008080; text-decoration-color: #008080; font-weight: bold\">81</span>            <span style=\"color: #008080; text-decoration-color: #008080; font-weight: bold\">0.0</span>\n",
       "\n",
       "<span style=\"font-weight: bold\">[</span><span style=\"color: #008080; text-decoration-color: #008080; font-weight: bold\">288</span> rows x <span style=\"color: #008080; text-decoration-color: #008080; font-weight: bold\">4</span> columns<span style=\"font-weight: bold\">]</span>\n",
       "</pre>\n"
      ],
      "text/plain": [
       "                   time  temperature_2m  relative_humidity_2m  precipitation\n",
       "\u001b[1;36m0\u001b[0m   \u001b[1;36m2023\u001b[0m-\u001b[1;36m11\u001b[0m-\u001b[1;36m12\u001b[0m \u001b[1;92m00:00:00\u001b[0m             \u001b[1;36m5.8\u001b[0m                    \u001b[1;36m94\u001b[0m            \u001b[1;36m0.0\u001b[0m\n",
       "\u001b[1;36m1\u001b[0m   \u001b[1;36m2023\u001b[0m-\u001b[1;36m11\u001b[0m-\u001b[1;36m12\u001b[0m \u001b[1;92m00:15:00\u001b[0m             \u001b[1;36m5.9\u001b[0m                    \u001b[1;36m92\u001b[0m            \u001b[1;36m0.0\u001b[0m\n",
       "\u001b[1;36m2\u001b[0m   \u001b[1;36m2023\u001b[0m-\u001b[1;36m11\u001b[0m-\u001b[1;36m12\u001b[0m \u001b[1;92m00:30:00\u001b[0m             \u001b[1;36m6.1\u001b[0m                    \u001b[1;36m90\u001b[0m            \u001b[1;36m0.0\u001b[0m\n",
       "\u001b[1;36m3\u001b[0m   \u001b[1;36m2023\u001b[0m-\u001b[1;36m11\u001b[0m-\u001b[1;36m12\u001b[0m \u001b[1;92m00:45:00\u001b[0m             \u001b[1;36m6.2\u001b[0m                    \u001b[1;36m88\u001b[0m            \u001b[1;36m0.0\u001b[0m\n",
       "\u001b[1;36m4\u001b[0m   \u001b[1;36m2023\u001b[0m-\u001b[1;36m11\u001b[0m-\u001b[1;36m12\u001b[0m \u001b[1;92m01:00:00\u001b[0m             \u001b[1;36m6.4\u001b[0m                    \u001b[1;36m86\u001b[0m            \u001b[1;36m0.0\u001b[0m\n",
       "..                  \u001b[33m...\u001b[0m             \u001b[33m...\u001b[0m                   \u001b[33m...\u001b[0m            \u001b[33m...\u001b[0m\n",
       "\u001b[1;36m283\u001b[0m \u001b[1;36m2023\u001b[0m-\u001b[1;36m11\u001b[0m-\u001b[1;36m14\u001b[0m \u001b[1;92m22:45:00\u001b[0m             \u001b[1;36m9.0\u001b[0m                    \u001b[1;36m86\u001b[0m            \u001b[1;36m0.0\u001b[0m\n",
       "\u001b[1;36m284\u001b[0m \u001b[1;36m2023\u001b[0m-\u001b[1;36m11\u001b[0m-\u001b[1;36m14\u001b[0m \u001b[1;92m23:00:00\u001b[0m             \u001b[1;36m7.5\u001b[0m                    \u001b[1;36m83\u001b[0m            \u001b[1;36m0.0\u001b[0m\n",
       "\u001b[1;36m285\u001b[0m \u001b[1;36m2023\u001b[0m-\u001b[1;36m11\u001b[0m-\u001b[1;36m14\u001b[0m \u001b[1;92m23:15:00\u001b[0m             \u001b[1;36m7.4\u001b[0m                    \u001b[1;36m83\u001b[0m            \u001b[1;36m0.0\u001b[0m\n",
       "\u001b[1;36m286\u001b[0m \u001b[1;36m2023\u001b[0m-\u001b[1;36m11\u001b[0m-\u001b[1;36m14\u001b[0m \u001b[1;92m23:30:00\u001b[0m             \u001b[1;36m7.3\u001b[0m                    \u001b[1;36m82\u001b[0m            \u001b[1;36m0.0\u001b[0m\n",
       "\u001b[1;36m287\u001b[0m \u001b[1;36m2023\u001b[0m-\u001b[1;36m11\u001b[0m-\u001b[1;36m14\u001b[0m \u001b[1;92m23:45:00\u001b[0m             \u001b[1;36m7.3\u001b[0m                    \u001b[1;36m81\u001b[0m            \u001b[1;36m0.0\u001b[0m\n",
       "\n",
       "\u001b[1m[\u001b[0m\u001b[1;36m288\u001b[0m rows x \u001b[1;36m4\u001b[0m columns\u001b[1m]\u001b[0m\n"
      ]
     },
     "metadata": {},
     "output_type": "display_data"
    },
    {
     "data": {
      "text/html": [
       "<pre style=\"white-space:pre;overflow-x:auto;line-height:normal;font-family:Menlo,'DejaVu Sans Mono',consolas,'Courier New',monospace\">---------------\n",
       "</pre>\n"
      ],
      "text/plain": [
       "---------------\n"
      ]
     },
     "metadata": {},
     "output_type": "display_data"
    },
    {
     "data": {
      "text/html": [
       "<pre style=\"white-space:pre;overflow-x:auto;line-height:normal;font-family:Menlo,'DejaVu Sans Mono',consolas,'Courier New',monospace\"><span style=\"font-weight: bold\">(</span><span style=\"color: #008080; text-decoration-color: #008080; font-weight: bold\">13.419998</span>, <span style=\"color: #008080; text-decoration-color: #008080; font-weight: bold\">52.52</span><span style=\"font-weight: bold\">)</span>\n",
       "</pre>\n"
      ],
      "text/plain": [
       "\u001b[1m(\u001b[0m\u001b[1;36m13.419998\u001b[0m, \u001b[1;36m52.52\u001b[0m\u001b[1m)\u001b[0m\n"
      ]
     },
     "metadata": {},
     "output_type": "display_data"
    },
    {
     "data": {
      "text/html": [
       "<pre style=\"white-space:pre;overflow-x:auto;line-height:normal;font-family:Menlo,'DejaVu Sans Mono',consolas,'Courier New',monospace\">hourly\n",
       "</pre>\n"
      ],
      "text/plain": [
       "hourly\n"
      ]
     },
     "metadata": {},
     "output_type": "display_data"
    },
    {
     "data": {
      "text/html": [
       "<pre style=\"white-space:pre;overflow-x:auto;line-height:normal;font-family:Menlo,'DejaVu Sans Mono',consolas,'Courier New',monospace\">                  time  temperature_2m\n",
       "<span style=\"color: #008080; text-decoration-color: #008080; font-weight: bold\">0</span>  <span style=\"color: #008080; text-decoration-color: #008080; font-weight: bold\">2023</span>-<span style=\"color: #008080; text-decoration-color: #008080; font-weight: bold\">11</span>-<span style=\"color: #008080; text-decoration-color: #008080; font-weight: bold\">12</span> <span style=\"color: #00ff00; text-decoration-color: #00ff00; font-weight: bold\">00:00:00</span>             <span style=\"color: #008080; text-decoration-color: #008080; font-weight: bold\">5.8</span>\n",
       "<span style=\"color: #008080; text-decoration-color: #008080; font-weight: bold\">1</span>  <span style=\"color: #008080; text-decoration-color: #008080; font-weight: bold\">2023</span>-<span style=\"color: #008080; text-decoration-color: #008080; font-weight: bold\">11</span>-<span style=\"color: #008080; text-decoration-color: #008080; font-weight: bold\">12</span> <span style=\"color: #00ff00; text-decoration-color: #00ff00; font-weight: bold\">01:00:00</span>             <span style=\"color: #008080; text-decoration-color: #008080; font-weight: bold\">6.4</span>\n",
       "<span style=\"color: #008080; text-decoration-color: #008080; font-weight: bold\">2</span>  <span style=\"color: #008080; text-decoration-color: #008080; font-weight: bold\">2023</span>-<span style=\"color: #008080; text-decoration-color: #008080; font-weight: bold\">11</span>-<span style=\"color: #008080; text-decoration-color: #008080; font-weight: bold\">12</span> <span style=\"color: #00ff00; text-decoration-color: #00ff00; font-weight: bold\">02:00:00</span>             <span style=\"color: #008080; text-decoration-color: #008080; font-weight: bold\">7.2</span>\n",
       "<span style=\"color: #008080; text-decoration-color: #008080; font-weight: bold\">3</span>  <span style=\"color: #008080; text-decoration-color: #008080; font-weight: bold\">2023</span>-<span style=\"color: #008080; text-decoration-color: #008080; font-weight: bold\">11</span>-<span style=\"color: #008080; text-decoration-color: #008080; font-weight: bold\">12</span> <span style=\"color: #00ff00; text-decoration-color: #00ff00; font-weight: bold\">03:00:00</span>             <span style=\"color: #008080; text-decoration-color: #008080; font-weight: bold\">7.8</span>\n",
       "<span style=\"color: #008080; text-decoration-color: #008080; font-weight: bold\">4</span>  <span style=\"color: #008080; text-decoration-color: #008080; font-weight: bold\">2023</span>-<span style=\"color: #008080; text-decoration-color: #008080; font-weight: bold\">11</span>-<span style=\"color: #008080; text-decoration-color: #008080; font-weight: bold\">12</span> <span style=\"color: #00ff00; text-decoration-color: #00ff00; font-weight: bold\">04:00:00</span>             <span style=\"color: #008080; text-decoration-color: #008080; font-weight: bold\">7.9</span>\n",
       "<span style=\"color: #008080; text-decoration-color: #008080; font-weight: bold\">5</span>  <span style=\"color: #008080; text-decoration-color: #008080; font-weight: bold\">2023</span>-<span style=\"color: #008080; text-decoration-color: #008080; font-weight: bold\">11</span>-<span style=\"color: #008080; text-decoration-color: #008080; font-weight: bold\">12</span> <span style=\"color: #00ff00; text-decoration-color: #00ff00; font-weight: bold\">05:00:00</span>             <span style=\"color: #008080; text-decoration-color: #008080; font-weight: bold\">8.2</span>\n",
       "<span style=\"color: #008080; text-decoration-color: #008080; font-weight: bold\">6</span>  <span style=\"color: #008080; text-decoration-color: #008080; font-weight: bold\">2023</span>-<span style=\"color: #008080; text-decoration-color: #008080; font-weight: bold\">11</span>-<span style=\"color: #008080; text-decoration-color: #008080; font-weight: bold\">12</span> <span style=\"color: #00ff00; text-decoration-color: #00ff00; font-weight: bold\">06:00:00</span>             <span style=\"color: #008080; text-decoration-color: #008080; font-weight: bold\">8.3</span>\n",
       "<span style=\"color: #008080; text-decoration-color: #008080; font-weight: bold\">7</span>  <span style=\"color: #008080; text-decoration-color: #008080; font-weight: bold\">2023</span>-<span style=\"color: #008080; text-decoration-color: #008080; font-weight: bold\">11</span>-<span style=\"color: #008080; text-decoration-color: #008080; font-weight: bold\">12</span> <span style=\"color: #00ff00; text-decoration-color: #00ff00; font-weight: bold\">07:00:00</span>             <span style=\"color: #008080; text-decoration-color: #008080; font-weight: bold\">7.8</span>\n",
       "<span style=\"color: #008080; text-decoration-color: #008080; font-weight: bold\">8</span>  <span style=\"color: #008080; text-decoration-color: #008080; font-weight: bold\">2023</span>-<span style=\"color: #008080; text-decoration-color: #008080; font-weight: bold\">11</span>-<span style=\"color: #008080; text-decoration-color: #008080; font-weight: bold\">12</span> <span style=\"color: #00ff00; text-decoration-color: #00ff00; font-weight: bold\">08:00:00</span>             <span style=\"color: #008080; text-decoration-color: #008080; font-weight: bold\">7.0</span>\n",
       "<span style=\"color: #008080; text-decoration-color: #008080; font-weight: bold\">9</span>  <span style=\"color: #008080; text-decoration-color: #008080; font-weight: bold\">2023</span>-<span style=\"color: #008080; text-decoration-color: #008080; font-weight: bold\">11</span>-<span style=\"color: #008080; text-decoration-color: #008080; font-weight: bold\">12</span> <span style=\"color: #00ff00; text-decoration-color: #00ff00; font-weight: bold\">09:00:00</span>             <span style=\"color: #008080; text-decoration-color: #008080; font-weight: bold\">6.8</span>\n",
       "<span style=\"color: #008080; text-decoration-color: #008080; font-weight: bold\">10</span> <span style=\"color: #008080; text-decoration-color: #008080; font-weight: bold\">2023</span>-<span style=\"color: #008080; text-decoration-color: #008080; font-weight: bold\">11</span>-<span style=\"color: #008080; text-decoration-color: #008080; font-weight: bold\">12</span> <span style=\"color: #00ff00; text-decoration-color: #00ff00; font-weight: bold\">10:00:00</span>             <span style=\"color: #008080; text-decoration-color: #008080; font-weight: bold\">6.9</span>\n",
       "<span style=\"color: #008080; text-decoration-color: #008080; font-weight: bold\">11</span> <span style=\"color: #008080; text-decoration-color: #008080; font-weight: bold\">2023</span>-<span style=\"color: #008080; text-decoration-color: #008080; font-weight: bold\">11</span>-<span style=\"color: #008080; text-decoration-color: #008080; font-weight: bold\">12</span> <span style=\"color: #00ff00; text-decoration-color: #00ff00; font-weight: bold\">11:00:00</span>             <span style=\"color: #008080; text-decoration-color: #008080; font-weight: bold\">6.5</span>\n",
       "<span style=\"color: #008080; text-decoration-color: #008080; font-weight: bold\">12</span> <span style=\"color: #008080; text-decoration-color: #008080; font-weight: bold\">2023</span>-<span style=\"color: #008080; text-decoration-color: #008080; font-weight: bold\">11</span>-<span style=\"color: #008080; text-decoration-color: #008080; font-weight: bold\">12</span> <span style=\"color: #00ff00; text-decoration-color: #00ff00; font-weight: bold\">12:00:00</span>             <span style=\"color: #008080; text-decoration-color: #008080; font-weight: bold\">5.9</span>\n",
       "<span style=\"color: #008080; text-decoration-color: #008080; font-weight: bold\">13</span> <span style=\"color: #008080; text-decoration-color: #008080; font-weight: bold\">2023</span>-<span style=\"color: #008080; text-decoration-color: #008080; font-weight: bold\">11</span>-<span style=\"color: #008080; text-decoration-color: #008080; font-weight: bold\">12</span> <span style=\"color: #00ff00; text-decoration-color: #00ff00; font-weight: bold\">13:00:00</span>             <span style=\"color: #008080; text-decoration-color: #008080; font-weight: bold\">5.7</span>\n",
       "<span style=\"color: #008080; text-decoration-color: #008080; font-weight: bold\">14</span> <span style=\"color: #008080; text-decoration-color: #008080; font-weight: bold\">2023</span>-<span style=\"color: #008080; text-decoration-color: #008080; font-weight: bold\">11</span>-<span style=\"color: #008080; text-decoration-color: #008080; font-weight: bold\">12</span> <span style=\"color: #00ff00; text-decoration-color: #00ff00; font-weight: bold\">14:00:00</span>             <span style=\"color: #008080; text-decoration-color: #008080; font-weight: bold\">5.3</span>\n",
       "<span style=\"color: #008080; text-decoration-color: #008080; font-weight: bold\">15</span> <span style=\"color: #008080; text-decoration-color: #008080; font-weight: bold\">2023</span>-<span style=\"color: #008080; text-decoration-color: #008080; font-weight: bold\">11</span>-<span style=\"color: #008080; text-decoration-color: #008080; font-weight: bold\">12</span> <span style=\"color: #00ff00; text-decoration-color: #00ff00; font-weight: bold\">15:00:00</span>             <span style=\"color: #008080; text-decoration-color: #008080; font-weight: bold\">5.0</span>\n",
       "<span style=\"color: #008080; text-decoration-color: #008080; font-weight: bold\">16</span> <span style=\"color: #008080; text-decoration-color: #008080; font-weight: bold\">2023</span>-<span style=\"color: #008080; text-decoration-color: #008080; font-weight: bold\">11</span>-<span style=\"color: #008080; text-decoration-color: #008080; font-weight: bold\">12</span> <span style=\"color: #00ff00; text-decoration-color: #00ff00; font-weight: bold\">16:00:00</span>             <span style=\"color: #008080; text-decoration-color: #008080; font-weight: bold\">5.4</span>\n",
       "<span style=\"color: #008080; text-decoration-color: #008080; font-weight: bold\">17</span> <span style=\"color: #008080; text-decoration-color: #008080; font-weight: bold\">2023</span>-<span style=\"color: #008080; text-decoration-color: #008080; font-weight: bold\">11</span>-<span style=\"color: #008080; text-decoration-color: #008080; font-weight: bold\">12</span> <span style=\"color: #00ff00; text-decoration-color: #00ff00; font-weight: bold\">17:00:00</span>             <span style=\"color: #008080; text-decoration-color: #008080; font-weight: bold\">5.5</span>\n",
       "<span style=\"color: #008080; text-decoration-color: #008080; font-weight: bold\">18</span> <span style=\"color: #008080; text-decoration-color: #008080; font-weight: bold\">2023</span>-<span style=\"color: #008080; text-decoration-color: #008080; font-weight: bold\">11</span>-<span style=\"color: #008080; text-decoration-color: #008080; font-weight: bold\">12</span> <span style=\"color: #00ff00; text-decoration-color: #00ff00; font-weight: bold\">18:00:00</span>             <span style=\"color: #008080; text-decoration-color: #008080; font-weight: bold\">5.3</span>\n",
       "<span style=\"color: #008080; text-decoration-color: #008080; font-weight: bold\">19</span> <span style=\"color: #008080; text-decoration-color: #008080; font-weight: bold\">2023</span>-<span style=\"color: #008080; text-decoration-color: #008080; font-weight: bold\">11</span>-<span style=\"color: #008080; text-decoration-color: #008080; font-weight: bold\">12</span> <span style=\"color: #00ff00; text-decoration-color: #00ff00; font-weight: bold\">19:00:00</span>             <span style=\"color: #008080; text-decoration-color: #008080; font-weight: bold\">5.5</span>\n",
       "<span style=\"color: #008080; text-decoration-color: #008080; font-weight: bold\">20</span> <span style=\"color: #008080; text-decoration-color: #008080; font-weight: bold\">2023</span>-<span style=\"color: #008080; text-decoration-color: #008080; font-weight: bold\">11</span>-<span style=\"color: #008080; text-decoration-color: #008080; font-weight: bold\">12</span> <span style=\"color: #00ff00; text-decoration-color: #00ff00; font-weight: bold\">20:00:00</span>             <span style=\"color: #008080; text-decoration-color: #008080; font-weight: bold\">5.2</span>\n",
       "<span style=\"color: #008080; text-decoration-color: #008080; font-weight: bold\">21</span> <span style=\"color: #008080; text-decoration-color: #008080; font-weight: bold\">2023</span>-<span style=\"color: #008080; text-decoration-color: #008080; font-weight: bold\">11</span>-<span style=\"color: #008080; text-decoration-color: #008080; font-weight: bold\">12</span> <span style=\"color: #00ff00; text-decoration-color: #00ff00; font-weight: bold\">21:00:00</span>             <span style=\"color: #008080; text-decoration-color: #008080; font-weight: bold\">4.7</span>\n",
       "<span style=\"color: #008080; text-decoration-color: #008080; font-weight: bold\">22</span> <span style=\"color: #008080; text-decoration-color: #008080; font-weight: bold\">2023</span>-<span style=\"color: #008080; text-decoration-color: #008080; font-weight: bold\">11</span>-<span style=\"color: #008080; text-decoration-color: #008080; font-weight: bold\">12</span> <span style=\"color: #00ff00; text-decoration-color: #00ff00; font-weight: bold\">22:00:00</span>             <span style=\"color: #008080; text-decoration-color: #008080; font-weight: bold\">4.8</span>\n",
       "<span style=\"color: #008080; text-decoration-color: #008080; font-weight: bold\">23</span> <span style=\"color: #008080; text-decoration-color: #008080; font-weight: bold\">2023</span>-<span style=\"color: #008080; text-decoration-color: #008080; font-weight: bold\">11</span>-<span style=\"color: #008080; text-decoration-color: #008080; font-weight: bold\">12</span> <span style=\"color: #00ff00; text-decoration-color: #00ff00; font-weight: bold\">23:00:00</span>             <span style=\"color: #008080; text-decoration-color: #008080; font-weight: bold\">4.4</span>\n",
       "</pre>\n"
      ],
      "text/plain": [
       "                  time  temperature_2m\n",
       "\u001b[1;36m0\u001b[0m  \u001b[1;36m2023\u001b[0m-\u001b[1;36m11\u001b[0m-\u001b[1;36m12\u001b[0m \u001b[1;92m00:00:00\u001b[0m             \u001b[1;36m5.8\u001b[0m\n",
       "\u001b[1;36m1\u001b[0m  \u001b[1;36m2023\u001b[0m-\u001b[1;36m11\u001b[0m-\u001b[1;36m12\u001b[0m \u001b[1;92m01:00:00\u001b[0m             \u001b[1;36m6.4\u001b[0m\n",
       "\u001b[1;36m2\u001b[0m  \u001b[1;36m2023\u001b[0m-\u001b[1;36m11\u001b[0m-\u001b[1;36m12\u001b[0m \u001b[1;92m02:00:00\u001b[0m             \u001b[1;36m7.2\u001b[0m\n",
       "\u001b[1;36m3\u001b[0m  \u001b[1;36m2023\u001b[0m-\u001b[1;36m11\u001b[0m-\u001b[1;36m12\u001b[0m \u001b[1;92m03:00:00\u001b[0m             \u001b[1;36m7.8\u001b[0m\n",
       "\u001b[1;36m4\u001b[0m  \u001b[1;36m2023\u001b[0m-\u001b[1;36m11\u001b[0m-\u001b[1;36m12\u001b[0m \u001b[1;92m04:00:00\u001b[0m             \u001b[1;36m7.9\u001b[0m\n",
       "\u001b[1;36m5\u001b[0m  \u001b[1;36m2023\u001b[0m-\u001b[1;36m11\u001b[0m-\u001b[1;36m12\u001b[0m \u001b[1;92m05:00:00\u001b[0m             \u001b[1;36m8.2\u001b[0m\n",
       "\u001b[1;36m6\u001b[0m  \u001b[1;36m2023\u001b[0m-\u001b[1;36m11\u001b[0m-\u001b[1;36m12\u001b[0m \u001b[1;92m06:00:00\u001b[0m             \u001b[1;36m8.3\u001b[0m\n",
       "\u001b[1;36m7\u001b[0m  \u001b[1;36m2023\u001b[0m-\u001b[1;36m11\u001b[0m-\u001b[1;36m12\u001b[0m \u001b[1;92m07:00:00\u001b[0m             \u001b[1;36m7.8\u001b[0m\n",
       "\u001b[1;36m8\u001b[0m  \u001b[1;36m2023\u001b[0m-\u001b[1;36m11\u001b[0m-\u001b[1;36m12\u001b[0m \u001b[1;92m08:00:00\u001b[0m             \u001b[1;36m7.0\u001b[0m\n",
       "\u001b[1;36m9\u001b[0m  \u001b[1;36m2023\u001b[0m-\u001b[1;36m11\u001b[0m-\u001b[1;36m12\u001b[0m \u001b[1;92m09:00:00\u001b[0m             \u001b[1;36m6.8\u001b[0m\n",
       "\u001b[1;36m10\u001b[0m \u001b[1;36m2023\u001b[0m-\u001b[1;36m11\u001b[0m-\u001b[1;36m12\u001b[0m \u001b[1;92m10:00:00\u001b[0m             \u001b[1;36m6.9\u001b[0m\n",
       "\u001b[1;36m11\u001b[0m \u001b[1;36m2023\u001b[0m-\u001b[1;36m11\u001b[0m-\u001b[1;36m12\u001b[0m \u001b[1;92m11:00:00\u001b[0m             \u001b[1;36m6.5\u001b[0m\n",
       "\u001b[1;36m12\u001b[0m \u001b[1;36m2023\u001b[0m-\u001b[1;36m11\u001b[0m-\u001b[1;36m12\u001b[0m \u001b[1;92m12:00:00\u001b[0m             \u001b[1;36m5.9\u001b[0m\n",
       "\u001b[1;36m13\u001b[0m \u001b[1;36m2023\u001b[0m-\u001b[1;36m11\u001b[0m-\u001b[1;36m12\u001b[0m \u001b[1;92m13:00:00\u001b[0m             \u001b[1;36m5.7\u001b[0m\n",
       "\u001b[1;36m14\u001b[0m \u001b[1;36m2023\u001b[0m-\u001b[1;36m11\u001b[0m-\u001b[1;36m12\u001b[0m \u001b[1;92m14:00:00\u001b[0m             \u001b[1;36m5.3\u001b[0m\n",
       "\u001b[1;36m15\u001b[0m \u001b[1;36m2023\u001b[0m-\u001b[1;36m11\u001b[0m-\u001b[1;36m12\u001b[0m \u001b[1;92m15:00:00\u001b[0m             \u001b[1;36m5.0\u001b[0m\n",
       "\u001b[1;36m16\u001b[0m \u001b[1;36m2023\u001b[0m-\u001b[1;36m11\u001b[0m-\u001b[1;36m12\u001b[0m \u001b[1;92m16:00:00\u001b[0m             \u001b[1;36m5.4\u001b[0m\n",
       "\u001b[1;36m17\u001b[0m \u001b[1;36m2023\u001b[0m-\u001b[1;36m11\u001b[0m-\u001b[1;36m12\u001b[0m \u001b[1;92m17:00:00\u001b[0m             \u001b[1;36m5.5\u001b[0m\n",
       "\u001b[1;36m18\u001b[0m \u001b[1;36m2023\u001b[0m-\u001b[1;36m11\u001b[0m-\u001b[1;36m12\u001b[0m \u001b[1;92m18:00:00\u001b[0m             \u001b[1;36m5.3\u001b[0m\n",
       "\u001b[1;36m19\u001b[0m \u001b[1;36m2023\u001b[0m-\u001b[1;36m11\u001b[0m-\u001b[1;36m12\u001b[0m \u001b[1;92m19:00:00\u001b[0m             \u001b[1;36m5.5\u001b[0m\n",
       "\u001b[1;36m20\u001b[0m \u001b[1;36m2023\u001b[0m-\u001b[1;36m11\u001b[0m-\u001b[1;36m12\u001b[0m \u001b[1;92m20:00:00\u001b[0m             \u001b[1;36m5.2\u001b[0m\n",
       "\u001b[1;36m21\u001b[0m \u001b[1;36m2023\u001b[0m-\u001b[1;36m11\u001b[0m-\u001b[1;36m12\u001b[0m \u001b[1;92m21:00:00\u001b[0m             \u001b[1;36m4.7\u001b[0m\n",
       "\u001b[1;36m22\u001b[0m \u001b[1;36m2023\u001b[0m-\u001b[1;36m11\u001b[0m-\u001b[1;36m12\u001b[0m \u001b[1;92m22:00:00\u001b[0m             \u001b[1;36m4.8\u001b[0m\n",
       "\u001b[1;36m23\u001b[0m \u001b[1;36m2023\u001b[0m-\u001b[1;36m11\u001b[0m-\u001b[1;36m12\u001b[0m \u001b[1;92m23:00:00\u001b[0m             \u001b[1;36m4.4\u001b[0m\n"
      ]
     },
     "metadata": {},
     "output_type": "display_data"
    },
    {
     "data": {
      "text/html": [
       "<pre style=\"white-space:pre;overflow-x:auto;line-height:normal;font-family:Menlo,'DejaVu Sans Mono',consolas,'Courier New',monospace\">---------------\n",
       "</pre>\n"
      ],
      "text/plain": [
       "---------------\n"
      ]
     },
     "metadata": {},
     "output_type": "display_data"
    },
    {
     "data": {
      "text/html": [
       "<pre style=\"white-space:pre;overflow-x:auto;line-height:normal;font-family:Menlo,'DejaVu Sans Mono',consolas,'Courier New',monospace\"><span style=\"font-weight: bold\">(</span><span style=\"color: #008080; text-decoration-color: #008080; font-weight: bold\">-0.120000124</span>, <span style=\"color: #008080; text-decoration-color: #008080; font-weight: bold\">51.5</span><span style=\"font-weight: bold\">)</span>\n",
       "</pre>\n"
      ],
      "text/plain": [
       "\u001b[1m(\u001b[0m\u001b[1;36m-0.120000124\u001b[0m, \u001b[1;36m51.5\u001b[0m\u001b[1m)\u001b[0m\n"
      ]
     },
     "metadata": {},
     "output_type": "display_data"
    },
    {
     "data": {
      "text/html": [
       "<pre style=\"white-space:pre;overflow-x:auto;line-height:normal;font-family:Menlo,'DejaVu Sans Mono',consolas,'Courier New',monospace\">current\n",
       "</pre>\n"
      ],
      "text/plain": [
       "current\n"
      ]
     },
     "metadata": {},
     "output_type": "display_data"
    },
    {
     "data": {
      "text/html": [
       "<pre style=\"white-space:pre;overflow-x:auto;line-height:normal;font-family:Menlo,'DejaVu Sans Mono',consolas,'Courier New',monospace\">                 time  interval  temperature_2m  relative_humidity_2m  \\\n",
       "<span style=\"color: #008080; text-decoration-color: #008080; font-weight: bold\">0</span> <span style=\"color: #008080; text-decoration-color: #008080; font-weight: bold\">2023</span>-<span style=\"color: #008080; text-decoration-color: #008080; font-weight: bold\">11</span>-<span style=\"color: #008080; text-decoration-color: #008080; font-weight: bold\">12</span> <span style=\"color: #00ff00; text-decoration-color: #00ff00; font-weight: bold\">23:45:00</span>       <span style=\"color: #008080; text-decoration-color: #008080; font-weight: bold\">900</span>            <span style=\"color: #008080; text-decoration-color: #008080; font-weight: bold\">14.2</span>                    <span style=\"color: #008080; text-decoration-color: #008080; font-weight: bold\">93</span>   \n",
       "\n",
       "   precipitation  \n",
       "<span style=\"color: #008080; text-decoration-color: #008080; font-weight: bold\">0</span>            <span style=\"color: #008080; text-decoration-color: #008080; font-weight: bold\">0.3</span>  \n",
       "</pre>\n"
      ],
      "text/plain": [
       "                 time  interval  temperature_2m  relative_humidity_2m  \\\n",
       "\u001b[1;36m0\u001b[0m \u001b[1;36m2023\u001b[0m-\u001b[1;36m11\u001b[0m-\u001b[1;36m12\u001b[0m \u001b[1;92m23:45:00\u001b[0m       \u001b[1;36m900\u001b[0m            \u001b[1;36m14.2\u001b[0m                    \u001b[1;36m93\u001b[0m   \n",
       "\n",
       "   precipitation  \n",
       "\u001b[1;36m0\u001b[0m            \u001b[1;36m0.3\u001b[0m  \n"
      ]
     },
     "metadata": {},
     "output_type": "display_data"
    },
    {
     "data": {
      "text/html": [
       "<pre style=\"white-space:pre;overflow-x:auto;line-height:normal;font-family:Menlo,'DejaVu Sans Mono',consolas,'Courier New',monospace\">---------------\n",
       "</pre>\n"
      ],
      "text/plain": [
       "---------------\n"
      ]
     },
     "metadata": {},
     "output_type": "display_data"
    },
    {
     "data": {
      "text/html": [
       "<pre style=\"white-space:pre;overflow-x:auto;line-height:normal;font-family:Menlo,'DejaVu Sans Mono',consolas,'Courier New',monospace\"><span style=\"font-weight: bold\">(</span><span style=\"color: #008080; text-decoration-color: #008080; font-weight: bold\">-0.120000124</span>, <span style=\"color: #008080; text-decoration-color: #008080; font-weight: bold\">51.5</span><span style=\"font-weight: bold\">)</span>\n",
       "</pre>\n"
      ],
      "text/plain": [
       "\u001b[1m(\u001b[0m\u001b[1;36m-0.120000124\u001b[0m, \u001b[1;36m51.5\u001b[0m\u001b[1m)\u001b[0m\n"
      ]
     },
     "metadata": {},
     "output_type": "display_data"
    },
    {
     "data": {
      "text/html": [
       "<pre style=\"white-space:pre;overflow-x:auto;line-height:normal;font-family:Menlo,'DejaVu Sans Mono',consolas,'Courier New',monospace\">minutely_15\n",
       "</pre>\n"
      ],
      "text/plain": [
       "minutely_15\n"
      ]
     },
     "metadata": {},
     "output_type": "display_data"
    },
    {
     "data": {
      "text/html": [
       "<pre style=\"white-space:pre;overflow-x:auto;line-height:normal;font-family:Menlo,'DejaVu Sans Mono',consolas,'Courier New',monospace\">                   time  temperature_2m  relative_humidity_2m  precipitation\n",
       "<span style=\"color: #008080; text-decoration-color: #008080; font-weight: bold\">0</span>   <span style=\"color: #008080; text-decoration-color: #008080; font-weight: bold\">2023</span>-<span style=\"color: #008080; text-decoration-color: #008080; font-weight: bold\">11</span>-<span style=\"color: #008080; text-decoration-color: #008080; font-weight: bold\">12</span> <span style=\"color: #00ff00; text-decoration-color: #00ff00; font-weight: bold\">00:00:00</span>             <span style=\"color: #008080; text-decoration-color: #008080; font-weight: bold\">6.6</span>                    <span style=\"color: #008080; text-decoration-color: #008080; font-weight: bold\">98</span>            <span style=\"color: #008080; text-decoration-color: #008080; font-weight: bold\">0.0</span>\n",
       "<span style=\"color: #008080; text-decoration-color: #008080; font-weight: bold\">1</span>   <span style=\"color: #008080; text-decoration-color: #008080; font-weight: bold\">2023</span>-<span style=\"color: #008080; text-decoration-color: #008080; font-weight: bold\">11</span>-<span style=\"color: #008080; text-decoration-color: #008080; font-weight: bold\">12</span> <span style=\"color: #00ff00; text-decoration-color: #00ff00; font-weight: bold\">00:15:00</span>             <span style=\"color: #008080; text-decoration-color: #008080; font-weight: bold\">6.7</span>                    <span style=\"color: #008080; text-decoration-color: #008080; font-weight: bold\">98</span>            <span style=\"color: #008080; text-decoration-color: #008080; font-weight: bold\">0.0</span>\n",
       "<span style=\"color: #008080; text-decoration-color: #008080; font-weight: bold\">2</span>   <span style=\"color: #008080; text-decoration-color: #008080; font-weight: bold\">2023</span>-<span style=\"color: #008080; text-decoration-color: #008080; font-weight: bold\">11</span>-<span style=\"color: #008080; text-decoration-color: #008080; font-weight: bold\">12</span> <span style=\"color: #00ff00; text-decoration-color: #00ff00; font-weight: bold\">00:30:00</span>             <span style=\"color: #008080; text-decoration-color: #008080; font-weight: bold\">6.8</span>                    <span style=\"color: #008080; text-decoration-color: #008080; font-weight: bold\">98</span>            <span style=\"color: #008080; text-decoration-color: #008080; font-weight: bold\">0.0</span>\n",
       "<span style=\"color: #008080; text-decoration-color: #008080; font-weight: bold\">3</span>   <span style=\"color: #008080; text-decoration-color: #008080; font-weight: bold\">2023</span>-<span style=\"color: #008080; text-decoration-color: #008080; font-weight: bold\">11</span>-<span style=\"color: #008080; text-decoration-color: #008080; font-weight: bold\">12</span> <span style=\"color: #00ff00; text-decoration-color: #00ff00; font-weight: bold\">00:45:00</span>             <span style=\"color: #008080; text-decoration-color: #008080; font-weight: bold\">6.8</span>                    <span style=\"color: #008080; text-decoration-color: #008080; font-weight: bold\">98</span>            <span style=\"color: #008080; text-decoration-color: #008080; font-weight: bold\">0.0</span>\n",
       "<span style=\"color: #008080; text-decoration-color: #008080; font-weight: bold\">4</span>   <span style=\"color: #008080; text-decoration-color: #008080; font-weight: bold\">2023</span>-<span style=\"color: #008080; text-decoration-color: #008080; font-weight: bold\">11</span>-<span style=\"color: #008080; text-decoration-color: #008080; font-weight: bold\">12</span> <span style=\"color: #00ff00; text-decoration-color: #00ff00; font-weight: bold\">01:00:00</span>             <span style=\"color: #008080; text-decoration-color: #008080; font-weight: bold\">6.9</span>                    <span style=\"color: #008080; text-decoration-color: #008080; font-weight: bold\">98</span>            <span style=\"color: #008080; text-decoration-color: #008080; font-weight: bold\">0.0</span>\n",
       "..                  <span style=\"color: #808000; text-decoration-color: #808000\">...</span>             <span style=\"color: #808000; text-decoration-color: #808000\">...</span>                   <span style=\"color: #808000; text-decoration-color: #808000\">...</span>            <span style=\"color: #808000; text-decoration-color: #808000\">...</span>\n",
       "<span style=\"color: #008080; text-decoration-color: #008080; font-weight: bold\">283</span> <span style=\"color: #008080; text-decoration-color: #008080; font-weight: bold\">2023</span>-<span style=\"color: #008080; text-decoration-color: #008080; font-weight: bold\">11</span>-<span style=\"color: #008080; text-decoration-color: #008080; font-weight: bold\">14</span> <span style=\"color: #00ff00; text-decoration-color: #00ff00; font-weight: bold\">22:45:00</span>             <span style=\"color: #008080; text-decoration-color: #008080; font-weight: bold\">8.6</span>                    <span style=\"color: #008080; text-decoration-color: #008080; font-weight: bold\">86</span>            <span style=\"color: #008080; text-decoration-color: #008080; font-weight: bold\">0.0</span>\n",
       "<span style=\"color: #008080; text-decoration-color: #008080; font-weight: bold\">284</span> <span style=\"color: #008080; text-decoration-color: #008080; font-weight: bold\">2023</span>-<span style=\"color: #008080; text-decoration-color: #008080; font-weight: bold\">11</span>-<span style=\"color: #008080; text-decoration-color: #008080; font-weight: bold\">14</span> <span style=\"color: #00ff00; text-decoration-color: #00ff00; font-weight: bold\">23:00:00</span>             <span style=\"color: #008080; text-decoration-color: #008080; font-weight: bold\">7.6</span>                    <span style=\"color: #008080; text-decoration-color: #008080; font-weight: bold\">93</span>            <span style=\"color: #008080; text-decoration-color: #008080; font-weight: bold\">0.0</span>\n",
       "<span style=\"color: #008080; text-decoration-color: #008080; font-weight: bold\">285</span> <span style=\"color: #008080; text-decoration-color: #008080; font-weight: bold\">2023</span>-<span style=\"color: #008080; text-decoration-color: #008080; font-weight: bold\">11</span>-<span style=\"color: #008080; text-decoration-color: #008080; font-weight: bold\">14</span> <span style=\"color: #00ff00; text-decoration-color: #00ff00; font-weight: bold\">23:15:00</span>             <span style=\"color: #008080; text-decoration-color: #008080; font-weight: bold\">7.5</span>                    <span style=\"color: #008080; text-decoration-color: #008080; font-weight: bold\">93</span>            <span style=\"color: #008080; text-decoration-color: #008080; font-weight: bold\">0.0</span>\n",
       "<span style=\"color: #008080; text-decoration-color: #008080; font-weight: bold\">286</span> <span style=\"color: #008080; text-decoration-color: #008080; font-weight: bold\">2023</span>-<span style=\"color: #008080; text-decoration-color: #008080; font-weight: bold\">11</span>-<span style=\"color: #008080; text-decoration-color: #008080; font-weight: bold\">14</span> <span style=\"color: #00ff00; text-decoration-color: #00ff00; font-weight: bold\">23:30:00</span>             <span style=\"color: #008080; text-decoration-color: #008080; font-weight: bold\">7.5</span>                    <span style=\"color: #008080; text-decoration-color: #008080; font-weight: bold\">93</span>            <span style=\"color: #008080; text-decoration-color: #008080; font-weight: bold\">0.0</span>\n",
       "<span style=\"color: #008080; text-decoration-color: #008080; font-weight: bold\">287</span> <span style=\"color: #008080; text-decoration-color: #008080; font-weight: bold\">2023</span>-<span style=\"color: #008080; text-decoration-color: #008080; font-weight: bold\">11</span>-<span style=\"color: #008080; text-decoration-color: #008080; font-weight: bold\">14</span> <span style=\"color: #00ff00; text-decoration-color: #00ff00; font-weight: bold\">23:45:00</span>             <span style=\"color: #008080; text-decoration-color: #008080; font-weight: bold\">7.5</span>                    <span style=\"color: #008080; text-decoration-color: #008080; font-weight: bold\">92</span>            <span style=\"color: #008080; text-decoration-color: #008080; font-weight: bold\">0.0</span>\n",
       "\n",
       "<span style=\"font-weight: bold\">[</span><span style=\"color: #008080; text-decoration-color: #008080; font-weight: bold\">288</span> rows x <span style=\"color: #008080; text-decoration-color: #008080; font-weight: bold\">4</span> columns<span style=\"font-weight: bold\">]</span>\n",
       "</pre>\n"
      ],
      "text/plain": [
       "                   time  temperature_2m  relative_humidity_2m  precipitation\n",
       "\u001b[1;36m0\u001b[0m   \u001b[1;36m2023\u001b[0m-\u001b[1;36m11\u001b[0m-\u001b[1;36m12\u001b[0m \u001b[1;92m00:00:00\u001b[0m             \u001b[1;36m6.6\u001b[0m                    \u001b[1;36m98\u001b[0m            \u001b[1;36m0.0\u001b[0m\n",
       "\u001b[1;36m1\u001b[0m   \u001b[1;36m2023\u001b[0m-\u001b[1;36m11\u001b[0m-\u001b[1;36m12\u001b[0m \u001b[1;92m00:15:00\u001b[0m             \u001b[1;36m6.7\u001b[0m                    \u001b[1;36m98\u001b[0m            \u001b[1;36m0.0\u001b[0m\n",
       "\u001b[1;36m2\u001b[0m   \u001b[1;36m2023\u001b[0m-\u001b[1;36m11\u001b[0m-\u001b[1;36m12\u001b[0m \u001b[1;92m00:30:00\u001b[0m             \u001b[1;36m6.8\u001b[0m                    \u001b[1;36m98\u001b[0m            \u001b[1;36m0.0\u001b[0m\n",
       "\u001b[1;36m3\u001b[0m   \u001b[1;36m2023\u001b[0m-\u001b[1;36m11\u001b[0m-\u001b[1;36m12\u001b[0m \u001b[1;92m00:45:00\u001b[0m             \u001b[1;36m6.8\u001b[0m                    \u001b[1;36m98\u001b[0m            \u001b[1;36m0.0\u001b[0m\n",
       "\u001b[1;36m4\u001b[0m   \u001b[1;36m2023\u001b[0m-\u001b[1;36m11\u001b[0m-\u001b[1;36m12\u001b[0m \u001b[1;92m01:00:00\u001b[0m             \u001b[1;36m6.9\u001b[0m                    \u001b[1;36m98\u001b[0m            \u001b[1;36m0.0\u001b[0m\n",
       "..                  \u001b[33m...\u001b[0m             \u001b[33m...\u001b[0m                   \u001b[33m...\u001b[0m            \u001b[33m...\u001b[0m\n",
       "\u001b[1;36m283\u001b[0m \u001b[1;36m2023\u001b[0m-\u001b[1;36m11\u001b[0m-\u001b[1;36m14\u001b[0m \u001b[1;92m22:45:00\u001b[0m             \u001b[1;36m8.6\u001b[0m                    \u001b[1;36m86\u001b[0m            \u001b[1;36m0.0\u001b[0m\n",
       "\u001b[1;36m284\u001b[0m \u001b[1;36m2023\u001b[0m-\u001b[1;36m11\u001b[0m-\u001b[1;36m14\u001b[0m \u001b[1;92m23:00:00\u001b[0m             \u001b[1;36m7.6\u001b[0m                    \u001b[1;36m93\u001b[0m            \u001b[1;36m0.0\u001b[0m\n",
       "\u001b[1;36m285\u001b[0m \u001b[1;36m2023\u001b[0m-\u001b[1;36m11\u001b[0m-\u001b[1;36m14\u001b[0m \u001b[1;92m23:15:00\u001b[0m             \u001b[1;36m7.5\u001b[0m                    \u001b[1;36m93\u001b[0m            \u001b[1;36m0.0\u001b[0m\n",
       "\u001b[1;36m286\u001b[0m \u001b[1;36m2023\u001b[0m-\u001b[1;36m11\u001b[0m-\u001b[1;36m14\u001b[0m \u001b[1;92m23:30:00\u001b[0m             \u001b[1;36m7.5\u001b[0m                    \u001b[1;36m93\u001b[0m            \u001b[1;36m0.0\u001b[0m\n",
       "\u001b[1;36m287\u001b[0m \u001b[1;36m2023\u001b[0m-\u001b[1;36m11\u001b[0m-\u001b[1;36m14\u001b[0m \u001b[1;92m23:45:00\u001b[0m             \u001b[1;36m7.5\u001b[0m                    \u001b[1;36m92\u001b[0m            \u001b[1;36m0.0\u001b[0m\n",
       "\n",
       "\u001b[1m[\u001b[0m\u001b[1;36m288\u001b[0m rows x \u001b[1;36m4\u001b[0m columns\u001b[1m]\u001b[0m\n"
      ]
     },
     "metadata": {},
     "output_type": "display_data"
    },
    {
     "data": {
      "text/html": [
       "<pre style=\"white-space:pre;overflow-x:auto;line-height:normal;font-family:Menlo,'DejaVu Sans Mono',consolas,'Courier New',monospace\">---------------\n",
       "</pre>\n"
      ],
      "text/plain": [
       "---------------\n"
      ]
     },
     "metadata": {},
     "output_type": "display_data"
    },
    {
     "data": {
      "text/html": [
       "<pre style=\"white-space:pre;overflow-x:auto;line-height:normal;font-family:Menlo,'DejaVu Sans Mono',consolas,'Courier New',monospace\"><span style=\"font-weight: bold\">(</span><span style=\"color: #008080; text-decoration-color: #008080; font-weight: bold\">-0.120000124</span>, <span style=\"color: #008080; text-decoration-color: #008080; font-weight: bold\">51.5</span><span style=\"font-weight: bold\">)</span>\n",
       "</pre>\n"
      ],
      "text/plain": [
       "\u001b[1m(\u001b[0m\u001b[1;36m-0.120000124\u001b[0m, \u001b[1;36m51.5\u001b[0m\u001b[1m)\u001b[0m\n"
      ]
     },
     "metadata": {},
     "output_type": "display_data"
    },
    {
     "data": {
      "text/html": [
       "<pre style=\"white-space:pre;overflow-x:auto;line-height:normal;font-family:Menlo,'DejaVu Sans Mono',consolas,'Courier New',monospace\">hourly\n",
       "</pre>\n"
      ],
      "text/plain": [
       "hourly\n"
      ]
     },
     "metadata": {},
     "output_type": "display_data"
    },
    {
     "data": {
      "text/html": [
       "<pre style=\"white-space:pre;overflow-x:auto;line-height:normal;font-family:Menlo,'DejaVu Sans Mono',consolas,'Courier New',monospace\">                  time  temperature_2m\n",
       "<span style=\"color: #008080; text-decoration-color: #008080; font-weight: bold\">0</span>  <span style=\"color: #008080; text-decoration-color: #008080; font-weight: bold\">2023</span>-<span style=\"color: #008080; text-decoration-color: #008080; font-weight: bold\">11</span>-<span style=\"color: #008080; text-decoration-color: #008080; font-weight: bold\">12</span> <span style=\"color: #00ff00; text-decoration-color: #00ff00; font-weight: bold\">00:00:00</span>             <span style=\"color: #008080; text-decoration-color: #008080; font-weight: bold\">6.6</span>\n",
       "<span style=\"color: #008080; text-decoration-color: #008080; font-weight: bold\">1</span>  <span style=\"color: #008080; text-decoration-color: #008080; font-weight: bold\">2023</span>-<span style=\"color: #008080; text-decoration-color: #008080; font-weight: bold\">11</span>-<span style=\"color: #008080; text-decoration-color: #008080; font-weight: bold\">12</span> <span style=\"color: #00ff00; text-decoration-color: #00ff00; font-weight: bold\">01:00:00</span>             <span style=\"color: #008080; text-decoration-color: #008080; font-weight: bold\">6.9</span>\n",
       "<span style=\"color: #008080; text-decoration-color: #008080; font-weight: bold\">2</span>  <span style=\"color: #008080; text-decoration-color: #008080; font-weight: bold\">2023</span>-<span style=\"color: #008080; text-decoration-color: #008080; font-weight: bold\">11</span>-<span style=\"color: #008080; text-decoration-color: #008080; font-weight: bold\">12</span> <span style=\"color: #00ff00; text-decoration-color: #00ff00; font-weight: bold\">02:00:00</span>             <span style=\"color: #008080; text-decoration-color: #008080; font-weight: bold\">7.5</span>\n",
       "<span style=\"color: #008080; text-decoration-color: #008080; font-weight: bold\">3</span>  <span style=\"color: #008080; text-decoration-color: #008080; font-weight: bold\">2023</span>-<span style=\"color: #008080; text-decoration-color: #008080; font-weight: bold\">11</span>-<span style=\"color: #008080; text-decoration-color: #008080; font-weight: bold\">12</span> <span style=\"color: #00ff00; text-decoration-color: #00ff00; font-weight: bold\">03:00:00</span>             <span style=\"color: #008080; text-decoration-color: #008080; font-weight: bold\">8.2</span>\n",
       "<span style=\"color: #008080; text-decoration-color: #008080; font-weight: bold\">4</span>  <span style=\"color: #008080; text-decoration-color: #008080; font-weight: bold\">2023</span>-<span style=\"color: #008080; text-decoration-color: #008080; font-weight: bold\">11</span>-<span style=\"color: #008080; text-decoration-color: #008080; font-weight: bold\">12</span> <span style=\"color: #00ff00; text-decoration-color: #00ff00; font-weight: bold\">04:00:00</span>             <span style=\"color: #008080; text-decoration-color: #008080; font-weight: bold\">8.9</span>\n",
       "<span style=\"color: #008080; text-decoration-color: #008080; font-weight: bold\">5</span>  <span style=\"color: #008080; text-decoration-color: #008080; font-weight: bold\">2023</span>-<span style=\"color: #008080; text-decoration-color: #008080; font-weight: bold\">11</span>-<span style=\"color: #008080; text-decoration-color: #008080; font-weight: bold\">12</span> <span style=\"color: #00ff00; text-decoration-color: #00ff00; font-weight: bold\">05:00:00</span>             <span style=\"color: #008080; text-decoration-color: #008080; font-weight: bold\">9.3</span>\n",
       "<span style=\"color: #008080; text-decoration-color: #008080; font-weight: bold\">6</span>  <span style=\"color: #008080; text-decoration-color: #008080; font-weight: bold\">2023</span>-<span style=\"color: #008080; text-decoration-color: #008080; font-weight: bold\">11</span>-<span style=\"color: #008080; text-decoration-color: #008080; font-weight: bold\">12</span> <span style=\"color: #00ff00; text-decoration-color: #00ff00; font-weight: bold\">06:00:00</span>             <span style=\"color: #008080; text-decoration-color: #008080; font-weight: bold\">9.3</span>\n",
       "<span style=\"color: #008080; text-decoration-color: #008080; font-weight: bold\">7</span>  <span style=\"color: #008080; text-decoration-color: #008080; font-weight: bold\">2023</span>-<span style=\"color: #008080; text-decoration-color: #008080; font-weight: bold\">11</span>-<span style=\"color: #008080; text-decoration-color: #008080; font-weight: bold\">12</span> <span style=\"color: #00ff00; text-decoration-color: #00ff00; font-weight: bold\">07:00:00</span>             <span style=\"color: #008080; text-decoration-color: #008080; font-weight: bold\">9.1</span>\n",
       "<span style=\"color: #008080; text-decoration-color: #008080; font-weight: bold\">8</span>  <span style=\"color: #008080; text-decoration-color: #008080; font-weight: bold\">2023</span>-<span style=\"color: #008080; text-decoration-color: #008080; font-weight: bold\">11</span>-<span style=\"color: #008080; text-decoration-color: #008080; font-weight: bold\">12</span> <span style=\"color: #00ff00; text-decoration-color: #00ff00; font-weight: bold\">08:00:00</span>             <span style=\"color: #008080; text-decoration-color: #008080; font-weight: bold\">8.9</span>\n",
       "<span style=\"color: #008080; text-decoration-color: #008080; font-weight: bold\">9</span>  <span style=\"color: #008080; text-decoration-color: #008080; font-weight: bold\">2023</span>-<span style=\"color: #008080; text-decoration-color: #008080; font-weight: bold\">11</span>-<span style=\"color: #008080; text-decoration-color: #008080; font-weight: bold\">12</span> <span style=\"color: #00ff00; text-decoration-color: #00ff00; font-weight: bold\">09:00:00</span>             <span style=\"color: #008080; text-decoration-color: #008080; font-weight: bold\">8.6</span>\n",
       "<span style=\"color: #008080; text-decoration-color: #008080; font-weight: bold\">10</span> <span style=\"color: #008080; text-decoration-color: #008080; font-weight: bold\">2023</span>-<span style=\"color: #008080; text-decoration-color: #008080; font-weight: bold\">11</span>-<span style=\"color: #008080; text-decoration-color: #008080; font-weight: bold\">12</span> <span style=\"color: #00ff00; text-decoration-color: #00ff00; font-weight: bold\">10:00:00</span>             <span style=\"color: #008080; text-decoration-color: #008080; font-weight: bold\">8.5</span>\n",
       "<span style=\"color: #008080; text-decoration-color: #008080; font-weight: bold\">11</span> <span style=\"color: #008080; text-decoration-color: #008080; font-weight: bold\">2023</span>-<span style=\"color: #008080; text-decoration-color: #008080; font-weight: bold\">11</span>-<span style=\"color: #008080; text-decoration-color: #008080; font-weight: bold\">12</span> <span style=\"color: #00ff00; text-decoration-color: #00ff00; font-weight: bold\">11:00:00</span>             <span style=\"color: #008080; text-decoration-color: #008080; font-weight: bold\">8.7</span>\n",
       "<span style=\"color: #008080; text-decoration-color: #008080; font-weight: bold\">12</span> <span style=\"color: #008080; text-decoration-color: #008080; font-weight: bold\">2023</span>-<span style=\"color: #008080; text-decoration-color: #008080; font-weight: bold\">11</span>-<span style=\"color: #008080; text-decoration-color: #008080; font-weight: bold\">12</span> <span style=\"color: #00ff00; text-decoration-color: #00ff00; font-weight: bold\">12:00:00</span>             <span style=\"color: #008080; text-decoration-color: #008080; font-weight: bold\">8.8</span>\n",
       "<span style=\"color: #008080; text-decoration-color: #008080; font-weight: bold\">13</span> <span style=\"color: #008080; text-decoration-color: #008080; font-weight: bold\">2023</span>-<span style=\"color: #008080; text-decoration-color: #008080; font-weight: bold\">11</span>-<span style=\"color: #008080; text-decoration-color: #008080; font-weight: bold\">12</span> <span style=\"color: #00ff00; text-decoration-color: #00ff00; font-weight: bold\">13:00:00</span>             <span style=\"color: #008080; text-decoration-color: #008080; font-weight: bold\">8.6</span>\n",
       "<span style=\"color: #008080; text-decoration-color: #008080; font-weight: bold\">14</span> <span style=\"color: #008080; text-decoration-color: #008080; font-weight: bold\">2023</span>-<span style=\"color: #008080; text-decoration-color: #008080; font-weight: bold\">11</span>-<span style=\"color: #008080; text-decoration-color: #008080; font-weight: bold\">12</span> <span style=\"color: #00ff00; text-decoration-color: #00ff00; font-weight: bold\">14:00:00</span>             <span style=\"color: #008080; text-decoration-color: #008080; font-weight: bold\">9.0</span>\n",
       "<span style=\"color: #008080; text-decoration-color: #008080; font-weight: bold\">15</span> <span style=\"color: #008080; text-decoration-color: #008080; font-weight: bold\">2023</span>-<span style=\"color: #008080; text-decoration-color: #008080; font-weight: bold\">11</span>-<span style=\"color: #008080; text-decoration-color: #008080; font-weight: bold\">12</span> <span style=\"color: #00ff00; text-decoration-color: #00ff00; font-weight: bold\">15:00:00</span>             <span style=\"color: #008080; text-decoration-color: #008080; font-weight: bold\">9.3</span>\n",
       "<span style=\"color: #008080; text-decoration-color: #008080; font-weight: bold\">16</span> <span style=\"color: #008080; text-decoration-color: #008080; font-weight: bold\">2023</span>-<span style=\"color: #008080; text-decoration-color: #008080; font-weight: bold\">11</span>-<span style=\"color: #008080; text-decoration-color: #008080; font-weight: bold\">12</span> <span style=\"color: #00ff00; text-decoration-color: #00ff00; font-weight: bold\">16:00:00</span>             <span style=\"color: #008080; text-decoration-color: #008080; font-weight: bold\">9.4</span>\n",
       "<span style=\"color: #008080; text-decoration-color: #008080; font-weight: bold\">17</span> <span style=\"color: #008080; text-decoration-color: #008080; font-weight: bold\">2023</span>-<span style=\"color: #008080; text-decoration-color: #008080; font-weight: bold\">11</span>-<span style=\"color: #008080; text-decoration-color: #008080; font-weight: bold\">12</span> <span style=\"color: #00ff00; text-decoration-color: #00ff00; font-weight: bold\">17:00:00</span>             <span style=\"color: #008080; text-decoration-color: #008080; font-weight: bold\">9.6</span>\n",
       "<span style=\"color: #008080; text-decoration-color: #008080; font-weight: bold\">18</span> <span style=\"color: #008080; text-decoration-color: #008080; font-weight: bold\">2023</span>-<span style=\"color: #008080; text-decoration-color: #008080; font-weight: bold\">11</span>-<span style=\"color: #008080; text-decoration-color: #008080; font-weight: bold\">12</span> <span style=\"color: #00ff00; text-decoration-color: #00ff00; font-weight: bold\">18:00:00</span>             <span style=\"color: #008080; text-decoration-color: #008080; font-weight: bold\">9.9</span>\n",
       "<span style=\"color: #008080; text-decoration-color: #008080; font-weight: bold\">19</span> <span style=\"color: #008080; text-decoration-color: #008080; font-weight: bold\">2023</span>-<span style=\"color: #008080; text-decoration-color: #008080; font-weight: bold\">11</span>-<span style=\"color: #008080; text-decoration-color: #008080; font-weight: bold\">12</span> <span style=\"color: #00ff00; text-decoration-color: #00ff00; font-weight: bold\">19:00:00</span>            <span style=\"color: #008080; text-decoration-color: #008080; font-weight: bold\">10.0</span>\n",
       "<span style=\"color: #008080; text-decoration-color: #008080; font-weight: bold\">20</span> <span style=\"color: #008080; text-decoration-color: #008080; font-weight: bold\">2023</span>-<span style=\"color: #008080; text-decoration-color: #008080; font-weight: bold\">11</span>-<span style=\"color: #008080; text-decoration-color: #008080; font-weight: bold\">12</span> <span style=\"color: #00ff00; text-decoration-color: #00ff00; font-weight: bold\">20:00:00</span>             <span style=\"color: #008080; text-decoration-color: #008080; font-weight: bold\">9.9</span>\n",
       "<span style=\"color: #008080; text-decoration-color: #008080; font-weight: bold\">21</span> <span style=\"color: #008080; text-decoration-color: #008080; font-weight: bold\">2023</span>-<span style=\"color: #008080; text-decoration-color: #008080; font-weight: bold\">11</span>-<span style=\"color: #008080; text-decoration-color: #008080; font-weight: bold\">12</span> <span style=\"color: #00ff00; text-decoration-color: #00ff00; font-weight: bold\">21:00:00</span>            <span style=\"color: #008080; text-decoration-color: #008080; font-weight: bold\">10.2</span>\n",
       "<span style=\"color: #008080; text-decoration-color: #008080; font-weight: bold\">22</span> <span style=\"color: #008080; text-decoration-color: #008080; font-weight: bold\">2023</span>-<span style=\"color: #008080; text-decoration-color: #008080; font-weight: bold\">11</span>-<span style=\"color: #008080; text-decoration-color: #008080; font-weight: bold\">12</span> <span style=\"color: #00ff00; text-decoration-color: #00ff00; font-weight: bold\">22:00:00</span>            <span style=\"color: #008080; text-decoration-color: #008080; font-weight: bold\">11.4</span>\n",
       "<span style=\"color: #008080; text-decoration-color: #008080; font-weight: bold\">23</span> <span style=\"color: #008080; text-decoration-color: #008080; font-weight: bold\">2023</span>-<span style=\"color: #008080; text-decoration-color: #008080; font-weight: bold\">11</span>-<span style=\"color: #008080; text-decoration-color: #008080; font-weight: bold\">12</span> <span style=\"color: #00ff00; text-decoration-color: #00ff00; font-weight: bold\">23:00:00</span>            <span style=\"color: #008080; text-decoration-color: #008080; font-weight: bold\">13.9</span>\n",
       "</pre>\n"
      ],
      "text/plain": [
       "                  time  temperature_2m\n",
       "\u001b[1;36m0\u001b[0m  \u001b[1;36m2023\u001b[0m-\u001b[1;36m11\u001b[0m-\u001b[1;36m12\u001b[0m \u001b[1;92m00:00:00\u001b[0m             \u001b[1;36m6.6\u001b[0m\n",
       "\u001b[1;36m1\u001b[0m  \u001b[1;36m2023\u001b[0m-\u001b[1;36m11\u001b[0m-\u001b[1;36m12\u001b[0m \u001b[1;92m01:00:00\u001b[0m             \u001b[1;36m6.9\u001b[0m\n",
       "\u001b[1;36m2\u001b[0m  \u001b[1;36m2023\u001b[0m-\u001b[1;36m11\u001b[0m-\u001b[1;36m12\u001b[0m \u001b[1;92m02:00:00\u001b[0m             \u001b[1;36m7.5\u001b[0m\n",
       "\u001b[1;36m3\u001b[0m  \u001b[1;36m2023\u001b[0m-\u001b[1;36m11\u001b[0m-\u001b[1;36m12\u001b[0m \u001b[1;92m03:00:00\u001b[0m             \u001b[1;36m8.2\u001b[0m\n",
       "\u001b[1;36m4\u001b[0m  \u001b[1;36m2023\u001b[0m-\u001b[1;36m11\u001b[0m-\u001b[1;36m12\u001b[0m \u001b[1;92m04:00:00\u001b[0m             \u001b[1;36m8.9\u001b[0m\n",
       "\u001b[1;36m5\u001b[0m  \u001b[1;36m2023\u001b[0m-\u001b[1;36m11\u001b[0m-\u001b[1;36m12\u001b[0m \u001b[1;92m05:00:00\u001b[0m             \u001b[1;36m9.3\u001b[0m\n",
       "\u001b[1;36m6\u001b[0m  \u001b[1;36m2023\u001b[0m-\u001b[1;36m11\u001b[0m-\u001b[1;36m12\u001b[0m \u001b[1;92m06:00:00\u001b[0m             \u001b[1;36m9.3\u001b[0m\n",
       "\u001b[1;36m7\u001b[0m  \u001b[1;36m2023\u001b[0m-\u001b[1;36m11\u001b[0m-\u001b[1;36m12\u001b[0m \u001b[1;92m07:00:00\u001b[0m             \u001b[1;36m9.1\u001b[0m\n",
       "\u001b[1;36m8\u001b[0m  \u001b[1;36m2023\u001b[0m-\u001b[1;36m11\u001b[0m-\u001b[1;36m12\u001b[0m \u001b[1;92m08:00:00\u001b[0m             \u001b[1;36m8.9\u001b[0m\n",
       "\u001b[1;36m9\u001b[0m  \u001b[1;36m2023\u001b[0m-\u001b[1;36m11\u001b[0m-\u001b[1;36m12\u001b[0m \u001b[1;92m09:00:00\u001b[0m             \u001b[1;36m8.6\u001b[0m\n",
       "\u001b[1;36m10\u001b[0m \u001b[1;36m2023\u001b[0m-\u001b[1;36m11\u001b[0m-\u001b[1;36m12\u001b[0m \u001b[1;92m10:00:00\u001b[0m             \u001b[1;36m8.5\u001b[0m\n",
       "\u001b[1;36m11\u001b[0m \u001b[1;36m2023\u001b[0m-\u001b[1;36m11\u001b[0m-\u001b[1;36m12\u001b[0m \u001b[1;92m11:00:00\u001b[0m             \u001b[1;36m8.7\u001b[0m\n",
       "\u001b[1;36m12\u001b[0m \u001b[1;36m2023\u001b[0m-\u001b[1;36m11\u001b[0m-\u001b[1;36m12\u001b[0m \u001b[1;92m12:00:00\u001b[0m             \u001b[1;36m8.8\u001b[0m\n",
       "\u001b[1;36m13\u001b[0m \u001b[1;36m2023\u001b[0m-\u001b[1;36m11\u001b[0m-\u001b[1;36m12\u001b[0m \u001b[1;92m13:00:00\u001b[0m             \u001b[1;36m8.6\u001b[0m\n",
       "\u001b[1;36m14\u001b[0m \u001b[1;36m2023\u001b[0m-\u001b[1;36m11\u001b[0m-\u001b[1;36m12\u001b[0m \u001b[1;92m14:00:00\u001b[0m             \u001b[1;36m9.0\u001b[0m\n",
       "\u001b[1;36m15\u001b[0m \u001b[1;36m2023\u001b[0m-\u001b[1;36m11\u001b[0m-\u001b[1;36m12\u001b[0m \u001b[1;92m15:00:00\u001b[0m             \u001b[1;36m9.3\u001b[0m\n",
       "\u001b[1;36m16\u001b[0m \u001b[1;36m2023\u001b[0m-\u001b[1;36m11\u001b[0m-\u001b[1;36m12\u001b[0m \u001b[1;92m16:00:00\u001b[0m             \u001b[1;36m9.4\u001b[0m\n",
       "\u001b[1;36m17\u001b[0m \u001b[1;36m2023\u001b[0m-\u001b[1;36m11\u001b[0m-\u001b[1;36m12\u001b[0m \u001b[1;92m17:00:00\u001b[0m             \u001b[1;36m9.6\u001b[0m\n",
       "\u001b[1;36m18\u001b[0m \u001b[1;36m2023\u001b[0m-\u001b[1;36m11\u001b[0m-\u001b[1;36m12\u001b[0m \u001b[1;92m18:00:00\u001b[0m             \u001b[1;36m9.9\u001b[0m\n",
       "\u001b[1;36m19\u001b[0m \u001b[1;36m2023\u001b[0m-\u001b[1;36m11\u001b[0m-\u001b[1;36m12\u001b[0m \u001b[1;92m19:00:00\u001b[0m            \u001b[1;36m10.0\u001b[0m\n",
       "\u001b[1;36m20\u001b[0m \u001b[1;36m2023\u001b[0m-\u001b[1;36m11\u001b[0m-\u001b[1;36m12\u001b[0m \u001b[1;92m20:00:00\u001b[0m             \u001b[1;36m9.9\u001b[0m\n",
       "\u001b[1;36m21\u001b[0m \u001b[1;36m2023\u001b[0m-\u001b[1;36m11\u001b[0m-\u001b[1;36m12\u001b[0m \u001b[1;92m21:00:00\u001b[0m            \u001b[1;36m10.2\u001b[0m\n",
       "\u001b[1;36m22\u001b[0m \u001b[1;36m2023\u001b[0m-\u001b[1;36m11\u001b[0m-\u001b[1;36m12\u001b[0m \u001b[1;92m22:00:00\u001b[0m            \u001b[1;36m11.4\u001b[0m\n",
       "\u001b[1;36m23\u001b[0m \u001b[1;36m2023\u001b[0m-\u001b[1;36m11\u001b[0m-\u001b[1;36m12\u001b[0m \u001b[1;92m23:00:00\u001b[0m            \u001b[1;36m13.9\u001b[0m\n"
      ]
     },
     "metadata": {},
     "output_type": "display_data"
    },
    {
     "data": {
      "text/html": [
       "<pre style=\"white-space:pre;overflow-x:auto;line-height:normal;font-family:Menlo,'DejaVu Sans Mono',consolas,'Courier New',monospace\">---------------\n",
       "</pre>\n"
      ],
      "text/plain": [
       "---------------\n"
      ]
     },
     "metadata": {},
     "output_type": "display_data"
    },
    {
     "data": {
      "text/html": [
       "<pre style=\"white-space:pre;overflow-x:auto;line-height:normal;font-family:Menlo,'DejaVu Sans Mono',consolas,'Courier New',monospace\"><span style=\"font-weight: bold\">(</span><span style=\"color: #008080; text-decoration-color: #008080; font-weight: bold\">13.419998</span>, <span style=\"color: #008080; text-decoration-color: #008080; font-weight: bold\">52.52</span><span style=\"font-weight: bold\">)</span>\n",
       "</pre>\n"
      ],
      "text/plain": [
       "\u001b[1m(\u001b[0m\u001b[1;36m13.419998\u001b[0m, \u001b[1;36m52.52\u001b[0m\u001b[1m)\u001b[0m\n"
      ]
     },
     "metadata": {},
     "output_type": "display_data"
    },
    {
     "data": {
      "text/html": [
       "<pre style=\"white-space:pre;overflow-x:auto;line-height:normal;font-family:Menlo,'DejaVu Sans Mono',consolas,'Courier New',monospace\">current\n",
       "</pre>\n"
      ],
      "text/plain": [
       "current\n"
      ]
     },
     "metadata": {},
     "output_type": "display_data"
    },
    {
     "data": {
      "text/html": [
       "<pre style=\"white-space:pre;overflow-x:auto;line-height:normal;font-family:Menlo,'DejaVu Sans Mono',consolas,'Courier New',monospace\">                 time  interval  temperature_2m  relative_humidity_2m  \\\n",
       "<span style=\"color: #008080; text-decoration-color: #008080; font-weight: bold\">0</span> <span style=\"color: #008080; text-decoration-color: #008080; font-weight: bold\">2023</span>-<span style=\"color: #008080; text-decoration-color: #008080; font-weight: bold\">11</span>-<span style=\"color: #008080; text-decoration-color: #008080; font-weight: bold\">12</span> <span style=\"color: #00ff00; text-decoration-color: #00ff00; font-weight: bold\">23:45:00</span>       <span style=\"color: #008080; text-decoration-color: #008080; font-weight: bold\">900</span>             <span style=\"color: #008080; text-decoration-color: #008080; font-weight: bold\">4.6</span>                    <span style=\"color: #008080; text-decoration-color: #008080; font-weight: bold\">87</span>   \n",
       "\n",
       "   precipitation  \n",
       "<span style=\"color: #008080; text-decoration-color: #008080; font-weight: bold\">0</span>            <span style=\"color: #008080; text-decoration-color: #008080; font-weight: bold\">0.0</span>  \n",
       "</pre>\n"
      ],
      "text/plain": [
       "                 time  interval  temperature_2m  relative_humidity_2m  \\\n",
       "\u001b[1;36m0\u001b[0m \u001b[1;36m2023\u001b[0m-\u001b[1;36m11\u001b[0m-\u001b[1;36m12\u001b[0m \u001b[1;92m23:45:00\u001b[0m       \u001b[1;36m900\u001b[0m             \u001b[1;36m4.6\u001b[0m                    \u001b[1;36m87\u001b[0m   \n",
       "\n",
       "   precipitation  \n",
       "\u001b[1;36m0\u001b[0m            \u001b[1;36m0.0\u001b[0m  \n"
      ]
     },
     "metadata": {},
     "output_type": "display_data"
    },
    {
     "data": {
      "text/html": [
       "<pre style=\"white-space:pre;overflow-x:auto;line-height:normal;font-family:Menlo,'DejaVu Sans Mono',consolas,'Courier New',monospace\">---------------\n",
       "</pre>\n"
      ],
      "text/plain": [
       "---------------\n"
      ]
     },
     "metadata": {},
     "output_type": "display_data"
    },
    {
     "data": {
      "text/html": [
       "<pre style=\"white-space:pre;overflow-x:auto;line-height:normal;font-family:Menlo,'DejaVu Sans Mono',consolas,'Courier New',monospace\"><span style=\"font-weight: bold\">(</span><span style=\"color: #008080; text-decoration-color: #008080; font-weight: bold\">13.419998</span>, <span style=\"color: #008080; text-decoration-color: #008080; font-weight: bold\">52.52</span><span style=\"font-weight: bold\">)</span>\n",
       "</pre>\n"
      ],
      "text/plain": [
       "\u001b[1m(\u001b[0m\u001b[1;36m13.419998\u001b[0m, \u001b[1;36m52.52\u001b[0m\u001b[1m)\u001b[0m\n"
      ]
     },
     "metadata": {},
     "output_type": "display_data"
    },
    {
     "data": {
      "text/html": [
       "<pre style=\"white-space:pre;overflow-x:auto;line-height:normal;font-family:Menlo,'DejaVu Sans Mono',consolas,'Courier New',monospace\">minutely_15\n",
       "</pre>\n"
      ],
      "text/plain": [
       "minutely_15\n"
      ]
     },
     "metadata": {},
     "output_type": "display_data"
    },
    {
     "data": {
      "text/html": [
       "<pre style=\"white-space:pre;overflow-x:auto;line-height:normal;font-family:Menlo,'DejaVu Sans Mono',consolas,'Courier New',monospace\">                   time  temperature_2m  relative_humidity_2m  precipitation\n",
       "<span style=\"color: #008080; text-decoration-color: #008080; font-weight: bold\">0</span>   <span style=\"color: #008080; text-decoration-color: #008080; font-weight: bold\">2023</span>-<span style=\"color: #008080; text-decoration-color: #008080; font-weight: bold\">11</span>-<span style=\"color: #008080; text-decoration-color: #008080; font-weight: bold\">12</span> <span style=\"color: #00ff00; text-decoration-color: #00ff00; font-weight: bold\">00:00:00</span>             <span style=\"color: #008080; text-decoration-color: #008080; font-weight: bold\">5.8</span>                    <span style=\"color: #008080; text-decoration-color: #008080; font-weight: bold\">94</span>            <span style=\"color: #008080; text-decoration-color: #008080; font-weight: bold\">0.0</span>\n",
       "<span style=\"color: #008080; text-decoration-color: #008080; font-weight: bold\">1</span>   <span style=\"color: #008080; text-decoration-color: #008080; font-weight: bold\">2023</span>-<span style=\"color: #008080; text-decoration-color: #008080; font-weight: bold\">11</span>-<span style=\"color: #008080; text-decoration-color: #008080; font-weight: bold\">12</span> <span style=\"color: #00ff00; text-decoration-color: #00ff00; font-weight: bold\">00:15:00</span>             <span style=\"color: #008080; text-decoration-color: #008080; font-weight: bold\">5.9</span>                    <span style=\"color: #008080; text-decoration-color: #008080; font-weight: bold\">92</span>            <span style=\"color: #008080; text-decoration-color: #008080; font-weight: bold\">0.0</span>\n",
       "<span style=\"color: #008080; text-decoration-color: #008080; font-weight: bold\">2</span>   <span style=\"color: #008080; text-decoration-color: #008080; font-weight: bold\">2023</span>-<span style=\"color: #008080; text-decoration-color: #008080; font-weight: bold\">11</span>-<span style=\"color: #008080; text-decoration-color: #008080; font-weight: bold\">12</span> <span style=\"color: #00ff00; text-decoration-color: #00ff00; font-weight: bold\">00:30:00</span>             <span style=\"color: #008080; text-decoration-color: #008080; font-weight: bold\">6.1</span>                    <span style=\"color: #008080; text-decoration-color: #008080; font-weight: bold\">90</span>            <span style=\"color: #008080; text-decoration-color: #008080; font-weight: bold\">0.0</span>\n",
       "<span style=\"color: #008080; text-decoration-color: #008080; font-weight: bold\">3</span>   <span style=\"color: #008080; text-decoration-color: #008080; font-weight: bold\">2023</span>-<span style=\"color: #008080; text-decoration-color: #008080; font-weight: bold\">11</span>-<span style=\"color: #008080; text-decoration-color: #008080; font-weight: bold\">12</span> <span style=\"color: #00ff00; text-decoration-color: #00ff00; font-weight: bold\">00:45:00</span>             <span style=\"color: #008080; text-decoration-color: #008080; font-weight: bold\">6.2</span>                    <span style=\"color: #008080; text-decoration-color: #008080; font-weight: bold\">88</span>            <span style=\"color: #008080; text-decoration-color: #008080; font-weight: bold\">0.0</span>\n",
       "<span style=\"color: #008080; text-decoration-color: #008080; font-weight: bold\">4</span>   <span style=\"color: #008080; text-decoration-color: #008080; font-weight: bold\">2023</span>-<span style=\"color: #008080; text-decoration-color: #008080; font-weight: bold\">11</span>-<span style=\"color: #008080; text-decoration-color: #008080; font-weight: bold\">12</span> <span style=\"color: #00ff00; text-decoration-color: #00ff00; font-weight: bold\">01:00:00</span>             <span style=\"color: #008080; text-decoration-color: #008080; font-weight: bold\">6.4</span>                    <span style=\"color: #008080; text-decoration-color: #008080; font-weight: bold\">86</span>            <span style=\"color: #008080; text-decoration-color: #008080; font-weight: bold\">0.0</span>\n",
       "..                  <span style=\"color: #808000; text-decoration-color: #808000\">...</span>             <span style=\"color: #808000; text-decoration-color: #808000\">...</span>                   <span style=\"color: #808000; text-decoration-color: #808000\">...</span>            <span style=\"color: #808000; text-decoration-color: #808000\">...</span>\n",
       "<span style=\"color: #008080; text-decoration-color: #008080; font-weight: bold\">283</span> <span style=\"color: #008080; text-decoration-color: #008080; font-weight: bold\">2023</span>-<span style=\"color: #008080; text-decoration-color: #008080; font-weight: bold\">11</span>-<span style=\"color: #008080; text-decoration-color: #008080; font-weight: bold\">14</span> <span style=\"color: #00ff00; text-decoration-color: #00ff00; font-weight: bold\">22:45:00</span>             <span style=\"color: #008080; text-decoration-color: #008080; font-weight: bold\">9.0</span>                    <span style=\"color: #008080; text-decoration-color: #008080; font-weight: bold\">86</span>            <span style=\"color: #008080; text-decoration-color: #008080; font-weight: bold\">0.0</span>\n",
       "<span style=\"color: #008080; text-decoration-color: #008080; font-weight: bold\">284</span> <span style=\"color: #008080; text-decoration-color: #008080; font-weight: bold\">2023</span>-<span style=\"color: #008080; text-decoration-color: #008080; font-weight: bold\">11</span>-<span style=\"color: #008080; text-decoration-color: #008080; font-weight: bold\">14</span> <span style=\"color: #00ff00; text-decoration-color: #00ff00; font-weight: bold\">23:00:00</span>             <span style=\"color: #008080; text-decoration-color: #008080; font-weight: bold\">7.5</span>                    <span style=\"color: #008080; text-decoration-color: #008080; font-weight: bold\">83</span>            <span style=\"color: #008080; text-decoration-color: #008080; font-weight: bold\">0.0</span>\n",
       "<span style=\"color: #008080; text-decoration-color: #008080; font-weight: bold\">285</span> <span style=\"color: #008080; text-decoration-color: #008080; font-weight: bold\">2023</span>-<span style=\"color: #008080; text-decoration-color: #008080; font-weight: bold\">11</span>-<span style=\"color: #008080; text-decoration-color: #008080; font-weight: bold\">14</span> <span style=\"color: #00ff00; text-decoration-color: #00ff00; font-weight: bold\">23:15:00</span>             <span style=\"color: #008080; text-decoration-color: #008080; font-weight: bold\">7.4</span>                    <span style=\"color: #008080; text-decoration-color: #008080; font-weight: bold\">83</span>            <span style=\"color: #008080; text-decoration-color: #008080; font-weight: bold\">0.0</span>\n",
       "<span style=\"color: #008080; text-decoration-color: #008080; font-weight: bold\">286</span> <span style=\"color: #008080; text-decoration-color: #008080; font-weight: bold\">2023</span>-<span style=\"color: #008080; text-decoration-color: #008080; font-weight: bold\">11</span>-<span style=\"color: #008080; text-decoration-color: #008080; font-weight: bold\">14</span> <span style=\"color: #00ff00; text-decoration-color: #00ff00; font-weight: bold\">23:30:00</span>             <span style=\"color: #008080; text-decoration-color: #008080; font-weight: bold\">7.3</span>                    <span style=\"color: #008080; text-decoration-color: #008080; font-weight: bold\">82</span>            <span style=\"color: #008080; text-decoration-color: #008080; font-weight: bold\">0.0</span>\n",
       "<span style=\"color: #008080; text-decoration-color: #008080; font-weight: bold\">287</span> <span style=\"color: #008080; text-decoration-color: #008080; font-weight: bold\">2023</span>-<span style=\"color: #008080; text-decoration-color: #008080; font-weight: bold\">11</span>-<span style=\"color: #008080; text-decoration-color: #008080; font-weight: bold\">14</span> <span style=\"color: #00ff00; text-decoration-color: #00ff00; font-weight: bold\">23:45:00</span>             <span style=\"color: #008080; text-decoration-color: #008080; font-weight: bold\">7.3</span>                    <span style=\"color: #008080; text-decoration-color: #008080; font-weight: bold\">81</span>            <span style=\"color: #008080; text-decoration-color: #008080; font-weight: bold\">0.0</span>\n",
       "\n",
       "<span style=\"font-weight: bold\">[</span><span style=\"color: #008080; text-decoration-color: #008080; font-weight: bold\">288</span> rows x <span style=\"color: #008080; text-decoration-color: #008080; font-weight: bold\">4</span> columns<span style=\"font-weight: bold\">]</span>\n",
       "</pre>\n"
      ],
      "text/plain": [
       "                   time  temperature_2m  relative_humidity_2m  precipitation\n",
       "\u001b[1;36m0\u001b[0m   \u001b[1;36m2023\u001b[0m-\u001b[1;36m11\u001b[0m-\u001b[1;36m12\u001b[0m \u001b[1;92m00:00:00\u001b[0m             \u001b[1;36m5.8\u001b[0m                    \u001b[1;36m94\u001b[0m            \u001b[1;36m0.0\u001b[0m\n",
       "\u001b[1;36m1\u001b[0m   \u001b[1;36m2023\u001b[0m-\u001b[1;36m11\u001b[0m-\u001b[1;36m12\u001b[0m \u001b[1;92m00:15:00\u001b[0m             \u001b[1;36m5.9\u001b[0m                    \u001b[1;36m92\u001b[0m            \u001b[1;36m0.0\u001b[0m\n",
       "\u001b[1;36m2\u001b[0m   \u001b[1;36m2023\u001b[0m-\u001b[1;36m11\u001b[0m-\u001b[1;36m12\u001b[0m \u001b[1;92m00:30:00\u001b[0m             \u001b[1;36m6.1\u001b[0m                    \u001b[1;36m90\u001b[0m            \u001b[1;36m0.0\u001b[0m\n",
       "\u001b[1;36m3\u001b[0m   \u001b[1;36m2023\u001b[0m-\u001b[1;36m11\u001b[0m-\u001b[1;36m12\u001b[0m \u001b[1;92m00:45:00\u001b[0m             \u001b[1;36m6.2\u001b[0m                    \u001b[1;36m88\u001b[0m            \u001b[1;36m0.0\u001b[0m\n",
       "\u001b[1;36m4\u001b[0m   \u001b[1;36m2023\u001b[0m-\u001b[1;36m11\u001b[0m-\u001b[1;36m12\u001b[0m \u001b[1;92m01:00:00\u001b[0m             \u001b[1;36m6.4\u001b[0m                    \u001b[1;36m86\u001b[0m            \u001b[1;36m0.0\u001b[0m\n",
       "..                  \u001b[33m...\u001b[0m             \u001b[33m...\u001b[0m                   \u001b[33m...\u001b[0m            \u001b[33m...\u001b[0m\n",
       "\u001b[1;36m283\u001b[0m \u001b[1;36m2023\u001b[0m-\u001b[1;36m11\u001b[0m-\u001b[1;36m14\u001b[0m \u001b[1;92m22:45:00\u001b[0m             \u001b[1;36m9.0\u001b[0m                    \u001b[1;36m86\u001b[0m            \u001b[1;36m0.0\u001b[0m\n",
       "\u001b[1;36m284\u001b[0m \u001b[1;36m2023\u001b[0m-\u001b[1;36m11\u001b[0m-\u001b[1;36m14\u001b[0m \u001b[1;92m23:00:00\u001b[0m             \u001b[1;36m7.5\u001b[0m                    \u001b[1;36m83\u001b[0m            \u001b[1;36m0.0\u001b[0m\n",
       "\u001b[1;36m285\u001b[0m \u001b[1;36m2023\u001b[0m-\u001b[1;36m11\u001b[0m-\u001b[1;36m14\u001b[0m \u001b[1;92m23:15:00\u001b[0m             \u001b[1;36m7.4\u001b[0m                    \u001b[1;36m83\u001b[0m            \u001b[1;36m0.0\u001b[0m\n",
       "\u001b[1;36m286\u001b[0m \u001b[1;36m2023\u001b[0m-\u001b[1;36m11\u001b[0m-\u001b[1;36m14\u001b[0m \u001b[1;92m23:30:00\u001b[0m             \u001b[1;36m7.3\u001b[0m                    \u001b[1;36m82\u001b[0m            \u001b[1;36m0.0\u001b[0m\n",
       "\u001b[1;36m287\u001b[0m \u001b[1;36m2023\u001b[0m-\u001b[1;36m11\u001b[0m-\u001b[1;36m14\u001b[0m \u001b[1;92m23:45:00\u001b[0m             \u001b[1;36m7.3\u001b[0m                    \u001b[1;36m81\u001b[0m            \u001b[1;36m0.0\u001b[0m\n",
       "\n",
       "\u001b[1m[\u001b[0m\u001b[1;36m288\u001b[0m rows x \u001b[1;36m4\u001b[0m columns\u001b[1m]\u001b[0m\n"
      ]
     },
     "metadata": {},
     "output_type": "display_data"
    },
    {
     "data": {
      "text/html": [
       "<pre style=\"white-space:pre;overflow-x:auto;line-height:normal;font-family:Menlo,'DejaVu Sans Mono',consolas,'Courier New',monospace\">---------------\n",
       "</pre>\n"
      ],
      "text/plain": [
       "---------------\n"
      ]
     },
     "metadata": {},
     "output_type": "display_data"
    },
    {
     "data": {
      "text/html": [
       "<pre style=\"white-space:pre;overflow-x:auto;line-height:normal;font-family:Menlo,'DejaVu Sans Mono',consolas,'Courier New',monospace\"><span style=\"font-weight: bold\">(</span><span style=\"color: #008080; text-decoration-color: #008080; font-weight: bold\">13.419998</span>, <span style=\"color: #008080; text-decoration-color: #008080; font-weight: bold\">52.52</span><span style=\"font-weight: bold\">)</span>\n",
       "</pre>\n"
      ],
      "text/plain": [
       "\u001b[1m(\u001b[0m\u001b[1;36m13.419998\u001b[0m, \u001b[1;36m52.52\u001b[0m\u001b[1m)\u001b[0m\n"
      ]
     },
     "metadata": {},
     "output_type": "display_data"
    },
    {
     "data": {
      "text/html": [
       "<pre style=\"white-space:pre;overflow-x:auto;line-height:normal;font-family:Menlo,'DejaVu Sans Mono',consolas,'Courier New',monospace\">hourly\n",
       "</pre>\n"
      ],
      "text/plain": [
       "hourly\n"
      ]
     },
     "metadata": {},
     "output_type": "display_data"
    },
    {
     "data": {
      "text/html": [
       "<pre style=\"white-space:pre;overflow-x:auto;line-height:normal;font-family:Menlo,'DejaVu Sans Mono',consolas,'Courier New',monospace\">                  time  temperature_2m\n",
       "<span style=\"color: #008080; text-decoration-color: #008080; font-weight: bold\">0</span>  <span style=\"color: #008080; text-decoration-color: #008080; font-weight: bold\">2023</span>-<span style=\"color: #008080; text-decoration-color: #008080; font-weight: bold\">11</span>-<span style=\"color: #008080; text-decoration-color: #008080; font-weight: bold\">12</span> <span style=\"color: #00ff00; text-decoration-color: #00ff00; font-weight: bold\">00:00:00</span>             <span style=\"color: #008080; text-decoration-color: #008080; font-weight: bold\">5.8</span>\n",
       "<span style=\"color: #008080; text-decoration-color: #008080; font-weight: bold\">1</span>  <span style=\"color: #008080; text-decoration-color: #008080; font-weight: bold\">2023</span>-<span style=\"color: #008080; text-decoration-color: #008080; font-weight: bold\">11</span>-<span style=\"color: #008080; text-decoration-color: #008080; font-weight: bold\">12</span> <span style=\"color: #00ff00; text-decoration-color: #00ff00; font-weight: bold\">01:00:00</span>             <span style=\"color: #008080; text-decoration-color: #008080; font-weight: bold\">6.4</span>\n",
       "<span style=\"color: #008080; text-decoration-color: #008080; font-weight: bold\">2</span>  <span style=\"color: #008080; text-decoration-color: #008080; font-weight: bold\">2023</span>-<span style=\"color: #008080; text-decoration-color: #008080; font-weight: bold\">11</span>-<span style=\"color: #008080; text-decoration-color: #008080; font-weight: bold\">12</span> <span style=\"color: #00ff00; text-decoration-color: #00ff00; font-weight: bold\">02:00:00</span>             <span style=\"color: #008080; text-decoration-color: #008080; font-weight: bold\">7.2</span>\n",
       "<span style=\"color: #008080; text-decoration-color: #008080; font-weight: bold\">3</span>  <span style=\"color: #008080; text-decoration-color: #008080; font-weight: bold\">2023</span>-<span style=\"color: #008080; text-decoration-color: #008080; font-weight: bold\">11</span>-<span style=\"color: #008080; text-decoration-color: #008080; font-weight: bold\">12</span> <span style=\"color: #00ff00; text-decoration-color: #00ff00; font-weight: bold\">03:00:00</span>             <span style=\"color: #008080; text-decoration-color: #008080; font-weight: bold\">7.8</span>\n",
       "<span style=\"color: #008080; text-decoration-color: #008080; font-weight: bold\">4</span>  <span style=\"color: #008080; text-decoration-color: #008080; font-weight: bold\">2023</span>-<span style=\"color: #008080; text-decoration-color: #008080; font-weight: bold\">11</span>-<span style=\"color: #008080; text-decoration-color: #008080; font-weight: bold\">12</span> <span style=\"color: #00ff00; text-decoration-color: #00ff00; font-weight: bold\">04:00:00</span>             <span style=\"color: #008080; text-decoration-color: #008080; font-weight: bold\">7.9</span>\n",
       "<span style=\"color: #008080; text-decoration-color: #008080; font-weight: bold\">5</span>  <span style=\"color: #008080; text-decoration-color: #008080; font-weight: bold\">2023</span>-<span style=\"color: #008080; text-decoration-color: #008080; font-weight: bold\">11</span>-<span style=\"color: #008080; text-decoration-color: #008080; font-weight: bold\">12</span> <span style=\"color: #00ff00; text-decoration-color: #00ff00; font-weight: bold\">05:00:00</span>             <span style=\"color: #008080; text-decoration-color: #008080; font-weight: bold\">8.2</span>\n",
       "<span style=\"color: #008080; text-decoration-color: #008080; font-weight: bold\">6</span>  <span style=\"color: #008080; text-decoration-color: #008080; font-weight: bold\">2023</span>-<span style=\"color: #008080; text-decoration-color: #008080; font-weight: bold\">11</span>-<span style=\"color: #008080; text-decoration-color: #008080; font-weight: bold\">12</span> <span style=\"color: #00ff00; text-decoration-color: #00ff00; font-weight: bold\">06:00:00</span>             <span style=\"color: #008080; text-decoration-color: #008080; font-weight: bold\">8.3</span>\n",
       "<span style=\"color: #008080; text-decoration-color: #008080; font-weight: bold\">7</span>  <span style=\"color: #008080; text-decoration-color: #008080; font-weight: bold\">2023</span>-<span style=\"color: #008080; text-decoration-color: #008080; font-weight: bold\">11</span>-<span style=\"color: #008080; text-decoration-color: #008080; font-weight: bold\">12</span> <span style=\"color: #00ff00; text-decoration-color: #00ff00; font-weight: bold\">07:00:00</span>             <span style=\"color: #008080; text-decoration-color: #008080; font-weight: bold\">7.8</span>\n",
       "<span style=\"color: #008080; text-decoration-color: #008080; font-weight: bold\">8</span>  <span style=\"color: #008080; text-decoration-color: #008080; font-weight: bold\">2023</span>-<span style=\"color: #008080; text-decoration-color: #008080; font-weight: bold\">11</span>-<span style=\"color: #008080; text-decoration-color: #008080; font-weight: bold\">12</span> <span style=\"color: #00ff00; text-decoration-color: #00ff00; font-weight: bold\">08:00:00</span>             <span style=\"color: #008080; text-decoration-color: #008080; font-weight: bold\">7.0</span>\n",
       "<span style=\"color: #008080; text-decoration-color: #008080; font-weight: bold\">9</span>  <span style=\"color: #008080; text-decoration-color: #008080; font-weight: bold\">2023</span>-<span style=\"color: #008080; text-decoration-color: #008080; font-weight: bold\">11</span>-<span style=\"color: #008080; text-decoration-color: #008080; font-weight: bold\">12</span> <span style=\"color: #00ff00; text-decoration-color: #00ff00; font-weight: bold\">09:00:00</span>             <span style=\"color: #008080; text-decoration-color: #008080; font-weight: bold\">6.8</span>\n",
       "<span style=\"color: #008080; text-decoration-color: #008080; font-weight: bold\">10</span> <span style=\"color: #008080; text-decoration-color: #008080; font-weight: bold\">2023</span>-<span style=\"color: #008080; text-decoration-color: #008080; font-weight: bold\">11</span>-<span style=\"color: #008080; text-decoration-color: #008080; font-weight: bold\">12</span> <span style=\"color: #00ff00; text-decoration-color: #00ff00; font-weight: bold\">10:00:00</span>             <span style=\"color: #008080; text-decoration-color: #008080; font-weight: bold\">6.9</span>\n",
       "<span style=\"color: #008080; text-decoration-color: #008080; font-weight: bold\">11</span> <span style=\"color: #008080; text-decoration-color: #008080; font-weight: bold\">2023</span>-<span style=\"color: #008080; text-decoration-color: #008080; font-weight: bold\">11</span>-<span style=\"color: #008080; text-decoration-color: #008080; font-weight: bold\">12</span> <span style=\"color: #00ff00; text-decoration-color: #00ff00; font-weight: bold\">11:00:00</span>             <span style=\"color: #008080; text-decoration-color: #008080; font-weight: bold\">6.5</span>\n",
       "<span style=\"color: #008080; text-decoration-color: #008080; font-weight: bold\">12</span> <span style=\"color: #008080; text-decoration-color: #008080; font-weight: bold\">2023</span>-<span style=\"color: #008080; text-decoration-color: #008080; font-weight: bold\">11</span>-<span style=\"color: #008080; text-decoration-color: #008080; font-weight: bold\">12</span> <span style=\"color: #00ff00; text-decoration-color: #00ff00; font-weight: bold\">12:00:00</span>             <span style=\"color: #008080; text-decoration-color: #008080; font-weight: bold\">5.9</span>\n",
       "<span style=\"color: #008080; text-decoration-color: #008080; font-weight: bold\">13</span> <span style=\"color: #008080; text-decoration-color: #008080; font-weight: bold\">2023</span>-<span style=\"color: #008080; text-decoration-color: #008080; font-weight: bold\">11</span>-<span style=\"color: #008080; text-decoration-color: #008080; font-weight: bold\">12</span> <span style=\"color: #00ff00; text-decoration-color: #00ff00; font-weight: bold\">13:00:00</span>             <span style=\"color: #008080; text-decoration-color: #008080; font-weight: bold\">5.7</span>\n",
       "<span style=\"color: #008080; text-decoration-color: #008080; font-weight: bold\">14</span> <span style=\"color: #008080; text-decoration-color: #008080; font-weight: bold\">2023</span>-<span style=\"color: #008080; text-decoration-color: #008080; font-weight: bold\">11</span>-<span style=\"color: #008080; text-decoration-color: #008080; font-weight: bold\">12</span> <span style=\"color: #00ff00; text-decoration-color: #00ff00; font-weight: bold\">14:00:00</span>             <span style=\"color: #008080; text-decoration-color: #008080; font-weight: bold\">5.3</span>\n",
       "<span style=\"color: #008080; text-decoration-color: #008080; font-weight: bold\">15</span> <span style=\"color: #008080; text-decoration-color: #008080; font-weight: bold\">2023</span>-<span style=\"color: #008080; text-decoration-color: #008080; font-weight: bold\">11</span>-<span style=\"color: #008080; text-decoration-color: #008080; font-weight: bold\">12</span> <span style=\"color: #00ff00; text-decoration-color: #00ff00; font-weight: bold\">15:00:00</span>             <span style=\"color: #008080; text-decoration-color: #008080; font-weight: bold\">5.0</span>\n",
       "<span style=\"color: #008080; text-decoration-color: #008080; font-weight: bold\">16</span> <span style=\"color: #008080; text-decoration-color: #008080; font-weight: bold\">2023</span>-<span style=\"color: #008080; text-decoration-color: #008080; font-weight: bold\">11</span>-<span style=\"color: #008080; text-decoration-color: #008080; font-weight: bold\">12</span> <span style=\"color: #00ff00; text-decoration-color: #00ff00; font-weight: bold\">16:00:00</span>             <span style=\"color: #008080; text-decoration-color: #008080; font-weight: bold\">5.4</span>\n",
       "<span style=\"color: #008080; text-decoration-color: #008080; font-weight: bold\">17</span> <span style=\"color: #008080; text-decoration-color: #008080; font-weight: bold\">2023</span>-<span style=\"color: #008080; text-decoration-color: #008080; font-weight: bold\">11</span>-<span style=\"color: #008080; text-decoration-color: #008080; font-weight: bold\">12</span> <span style=\"color: #00ff00; text-decoration-color: #00ff00; font-weight: bold\">17:00:00</span>             <span style=\"color: #008080; text-decoration-color: #008080; font-weight: bold\">5.5</span>\n",
       "<span style=\"color: #008080; text-decoration-color: #008080; font-weight: bold\">18</span> <span style=\"color: #008080; text-decoration-color: #008080; font-weight: bold\">2023</span>-<span style=\"color: #008080; text-decoration-color: #008080; font-weight: bold\">11</span>-<span style=\"color: #008080; text-decoration-color: #008080; font-weight: bold\">12</span> <span style=\"color: #00ff00; text-decoration-color: #00ff00; font-weight: bold\">18:00:00</span>             <span style=\"color: #008080; text-decoration-color: #008080; font-weight: bold\">5.3</span>\n",
       "<span style=\"color: #008080; text-decoration-color: #008080; font-weight: bold\">19</span> <span style=\"color: #008080; text-decoration-color: #008080; font-weight: bold\">2023</span>-<span style=\"color: #008080; text-decoration-color: #008080; font-weight: bold\">11</span>-<span style=\"color: #008080; text-decoration-color: #008080; font-weight: bold\">12</span> <span style=\"color: #00ff00; text-decoration-color: #00ff00; font-weight: bold\">19:00:00</span>             <span style=\"color: #008080; text-decoration-color: #008080; font-weight: bold\">5.5</span>\n",
       "<span style=\"color: #008080; text-decoration-color: #008080; font-weight: bold\">20</span> <span style=\"color: #008080; text-decoration-color: #008080; font-weight: bold\">2023</span>-<span style=\"color: #008080; text-decoration-color: #008080; font-weight: bold\">11</span>-<span style=\"color: #008080; text-decoration-color: #008080; font-weight: bold\">12</span> <span style=\"color: #00ff00; text-decoration-color: #00ff00; font-weight: bold\">20:00:00</span>             <span style=\"color: #008080; text-decoration-color: #008080; font-weight: bold\">5.2</span>\n",
       "<span style=\"color: #008080; text-decoration-color: #008080; font-weight: bold\">21</span> <span style=\"color: #008080; text-decoration-color: #008080; font-weight: bold\">2023</span>-<span style=\"color: #008080; text-decoration-color: #008080; font-weight: bold\">11</span>-<span style=\"color: #008080; text-decoration-color: #008080; font-weight: bold\">12</span> <span style=\"color: #00ff00; text-decoration-color: #00ff00; font-weight: bold\">21:00:00</span>             <span style=\"color: #008080; text-decoration-color: #008080; font-weight: bold\">4.7</span>\n",
       "<span style=\"color: #008080; text-decoration-color: #008080; font-weight: bold\">22</span> <span style=\"color: #008080; text-decoration-color: #008080; font-weight: bold\">2023</span>-<span style=\"color: #008080; text-decoration-color: #008080; font-weight: bold\">11</span>-<span style=\"color: #008080; text-decoration-color: #008080; font-weight: bold\">12</span> <span style=\"color: #00ff00; text-decoration-color: #00ff00; font-weight: bold\">22:00:00</span>             <span style=\"color: #008080; text-decoration-color: #008080; font-weight: bold\">4.8</span>\n",
       "<span style=\"color: #008080; text-decoration-color: #008080; font-weight: bold\">23</span> <span style=\"color: #008080; text-decoration-color: #008080; font-weight: bold\">2023</span>-<span style=\"color: #008080; text-decoration-color: #008080; font-weight: bold\">11</span>-<span style=\"color: #008080; text-decoration-color: #008080; font-weight: bold\">12</span> <span style=\"color: #00ff00; text-decoration-color: #00ff00; font-weight: bold\">23:00:00</span>             <span style=\"color: #008080; text-decoration-color: #008080; font-weight: bold\">4.4</span>\n",
       "</pre>\n"
      ],
      "text/plain": [
       "                  time  temperature_2m\n",
       "\u001b[1;36m0\u001b[0m  \u001b[1;36m2023\u001b[0m-\u001b[1;36m11\u001b[0m-\u001b[1;36m12\u001b[0m \u001b[1;92m00:00:00\u001b[0m             \u001b[1;36m5.8\u001b[0m\n",
       "\u001b[1;36m1\u001b[0m  \u001b[1;36m2023\u001b[0m-\u001b[1;36m11\u001b[0m-\u001b[1;36m12\u001b[0m \u001b[1;92m01:00:00\u001b[0m             \u001b[1;36m6.4\u001b[0m\n",
       "\u001b[1;36m2\u001b[0m  \u001b[1;36m2023\u001b[0m-\u001b[1;36m11\u001b[0m-\u001b[1;36m12\u001b[0m \u001b[1;92m02:00:00\u001b[0m             \u001b[1;36m7.2\u001b[0m\n",
       "\u001b[1;36m3\u001b[0m  \u001b[1;36m2023\u001b[0m-\u001b[1;36m11\u001b[0m-\u001b[1;36m12\u001b[0m \u001b[1;92m03:00:00\u001b[0m             \u001b[1;36m7.8\u001b[0m\n",
       "\u001b[1;36m4\u001b[0m  \u001b[1;36m2023\u001b[0m-\u001b[1;36m11\u001b[0m-\u001b[1;36m12\u001b[0m \u001b[1;92m04:00:00\u001b[0m             \u001b[1;36m7.9\u001b[0m\n",
       "\u001b[1;36m5\u001b[0m  \u001b[1;36m2023\u001b[0m-\u001b[1;36m11\u001b[0m-\u001b[1;36m12\u001b[0m \u001b[1;92m05:00:00\u001b[0m             \u001b[1;36m8.2\u001b[0m\n",
       "\u001b[1;36m6\u001b[0m  \u001b[1;36m2023\u001b[0m-\u001b[1;36m11\u001b[0m-\u001b[1;36m12\u001b[0m \u001b[1;92m06:00:00\u001b[0m             \u001b[1;36m8.3\u001b[0m\n",
       "\u001b[1;36m7\u001b[0m  \u001b[1;36m2023\u001b[0m-\u001b[1;36m11\u001b[0m-\u001b[1;36m12\u001b[0m \u001b[1;92m07:00:00\u001b[0m             \u001b[1;36m7.8\u001b[0m\n",
       "\u001b[1;36m8\u001b[0m  \u001b[1;36m2023\u001b[0m-\u001b[1;36m11\u001b[0m-\u001b[1;36m12\u001b[0m \u001b[1;92m08:00:00\u001b[0m             \u001b[1;36m7.0\u001b[0m\n",
       "\u001b[1;36m9\u001b[0m  \u001b[1;36m2023\u001b[0m-\u001b[1;36m11\u001b[0m-\u001b[1;36m12\u001b[0m \u001b[1;92m09:00:00\u001b[0m             \u001b[1;36m6.8\u001b[0m\n",
       "\u001b[1;36m10\u001b[0m \u001b[1;36m2023\u001b[0m-\u001b[1;36m11\u001b[0m-\u001b[1;36m12\u001b[0m \u001b[1;92m10:00:00\u001b[0m             \u001b[1;36m6.9\u001b[0m\n",
       "\u001b[1;36m11\u001b[0m \u001b[1;36m2023\u001b[0m-\u001b[1;36m11\u001b[0m-\u001b[1;36m12\u001b[0m \u001b[1;92m11:00:00\u001b[0m             \u001b[1;36m6.5\u001b[0m\n",
       "\u001b[1;36m12\u001b[0m \u001b[1;36m2023\u001b[0m-\u001b[1;36m11\u001b[0m-\u001b[1;36m12\u001b[0m \u001b[1;92m12:00:00\u001b[0m             \u001b[1;36m5.9\u001b[0m\n",
       "\u001b[1;36m13\u001b[0m \u001b[1;36m2023\u001b[0m-\u001b[1;36m11\u001b[0m-\u001b[1;36m12\u001b[0m \u001b[1;92m13:00:00\u001b[0m             \u001b[1;36m5.7\u001b[0m\n",
       "\u001b[1;36m14\u001b[0m \u001b[1;36m2023\u001b[0m-\u001b[1;36m11\u001b[0m-\u001b[1;36m12\u001b[0m \u001b[1;92m14:00:00\u001b[0m             \u001b[1;36m5.3\u001b[0m\n",
       "\u001b[1;36m15\u001b[0m \u001b[1;36m2023\u001b[0m-\u001b[1;36m11\u001b[0m-\u001b[1;36m12\u001b[0m \u001b[1;92m15:00:00\u001b[0m             \u001b[1;36m5.0\u001b[0m\n",
       "\u001b[1;36m16\u001b[0m \u001b[1;36m2023\u001b[0m-\u001b[1;36m11\u001b[0m-\u001b[1;36m12\u001b[0m \u001b[1;92m16:00:00\u001b[0m             \u001b[1;36m5.4\u001b[0m\n",
       "\u001b[1;36m17\u001b[0m \u001b[1;36m2023\u001b[0m-\u001b[1;36m11\u001b[0m-\u001b[1;36m12\u001b[0m \u001b[1;92m17:00:00\u001b[0m             \u001b[1;36m5.5\u001b[0m\n",
       "\u001b[1;36m18\u001b[0m \u001b[1;36m2023\u001b[0m-\u001b[1;36m11\u001b[0m-\u001b[1;36m12\u001b[0m \u001b[1;92m18:00:00\u001b[0m             \u001b[1;36m5.3\u001b[0m\n",
       "\u001b[1;36m19\u001b[0m \u001b[1;36m2023\u001b[0m-\u001b[1;36m11\u001b[0m-\u001b[1;36m12\u001b[0m \u001b[1;92m19:00:00\u001b[0m             \u001b[1;36m5.5\u001b[0m\n",
       "\u001b[1;36m20\u001b[0m \u001b[1;36m2023\u001b[0m-\u001b[1;36m11\u001b[0m-\u001b[1;36m12\u001b[0m \u001b[1;92m20:00:00\u001b[0m             \u001b[1;36m5.2\u001b[0m\n",
       "\u001b[1;36m21\u001b[0m \u001b[1;36m2023\u001b[0m-\u001b[1;36m11\u001b[0m-\u001b[1;36m12\u001b[0m \u001b[1;92m21:00:00\u001b[0m             \u001b[1;36m4.7\u001b[0m\n",
       "\u001b[1;36m22\u001b[0m \u001b[1;36m2023\u001b[0m-\u001b[1;36m11\u001b[0m-\u001b[1;36m12\u001b[0m \u001b[1;92m22:00:00\u001b[0m             \u001b[1;36m4.8\u001b[0m\n",
       "\u001b[1;36m23\u001b[0m \u001b[1;36m2023\u001b[0m-\u001b[1;36m11\u001b[0m-\u001b[1;36m12\u001b[0m \u001b[1;92m23:00:00\u001b[0m             \u001b[1;36m4.4\u001b[0m\n"
      ]
     },
     "metadata": {},
     "output_type": "display_data"
    },
    {
     "data": {
      "text/html": [
       "<pre style=\"white-space:pre;overflow-x:auto;line-height:normal;font-family:Menlo,'DejaVu Sans Mono',consolas,'Courier New',monospace\">---------------\n",
       "</pre>\n"
      ],
      "text/plain": [
       "---------------\n"
      ]
     },
     "metadata": {},
     "output_type": "display_data"
    }
   ],
   "source": [
    "from rich import print\n",
    "\n",
    "for (lon, lat), fore, df in client.gen_forecasts([\"current\", \"minutely_15\", \"hourly\"]):\n",
    "    print((lon, lat))\n",
    "    print(fore)\n",
    "    print(df)\n",
    "    print(\"---------------\")"
   ]
  },
  {
   "cell_type": "markdown",
   "metadata": {},
   "source": [
    "## Testing Gridstatus"
   ]
  },
  {
   "cell_type": "code",
   "execution_count": 1,
   "metadata": {},
   "outputs": [],
   "source": [
    "import gridstatus\n",
    "\n",
    "def create_iso_object(iso_name):\n",
    "    # Check if the attribute exists in the gridstatus module\n",
    "    if hasattr(gridstatus, iso_name):\n",
    "        # Get the class based on the iso_name string\n",
    "        iso_class = getattr(gridstatus, iso_name)\n",
    "        # Create an instance of the class\n",
    "        return iso_class()\n",
    "    else:\n",
    "        raise ValueError(f\"No such ISO class: {iso_name}\")\n",
    "\n",
    "# Example usage\n",
    "iso_object = create_iso_object(\"NYISO\")\n",
    "# This will create an instance of gridstatus.CAISO()\n"
   ]
  }
 ],
 "metadata": {
  "kernelspec": {
   "display_name": "cs274",
   "language": "python",
   "name": "python3"
  },
  "language_info": {
   "codemirror_mode": {
    "name": "ipython",
    "version": 3
   },
   "file_extension": ".py",
   "mimetype": "text/x-python",
   "name": "python",
   "nbconvert_exporter": "python",
   "pygments_lexer": "ipython3",
   "version": "3.9.18"
  }
 },
 "nbformat": 4,
 "nbformat_minor": 2
}
